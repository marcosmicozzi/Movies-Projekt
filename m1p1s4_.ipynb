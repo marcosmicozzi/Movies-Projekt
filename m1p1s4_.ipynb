{
 "cells": [
  {
   "cell_type": "code",
   "execution_count": 252,
   "metadata": {},
   "outputs": [],
   "source": [
    "import pandas as pd"
   ]
  },
  {
   "cell_type": "code",
   "execution_count": 253,
   "metadata": {},
   "outputs": [],
   "source": [
    "csv = pd.read_csv('movies_2.csv')\n",
    "csv.head()\n",
    "df = pd.DataFrame(csv)"
   ]
  },
  {
   "cell_type": "code",
   "execution_count": 254,
   "metadata": {},
   "outputs": [
    {
     "data": {
      "text/plain": [
       "(616, 11)"
      ]
     },
     "execution_count": 254,
     "metadata": {},
     "output_type": "execute_result"
    }
   ],
   "source": [
    "df.shape"
   ]
  },
  {
   "cell_type": "code",
   "execution_count": 255,
   "metadata": {},
   "outputs": [
    {
     "data": {
      "text/plain": [
       "<bound method DataFrame.info of      MovieID                                  Title MPAA Rating       Budget  \\\n",
       "0          1                     Look Who's Talking       PG-13    7500000.0   \n",
       "1          2                     Driving Miss Daisy          PG    7500000.0   \n",
       "2          3                         Turner & Hooch          PG   13000000.0   \n",
       "3          4             Born on the Fourth of July           R   14000000.0   \n",
       "4          5                        Field of Dreams          PG   15000000.0   \n",
       "..       ...                                    ...         ...          ...   \n",
       "611      612                            Toy Story 4           G  200000000.0   \n",
       "612      613  Fast & Furious Presents: Hobbs & Shaw       PG-13  200000000.0   \n",
       "613      614                          The Lion King          PG  250000000.0   \n",
       "614      615                      Avengers: Endgame       PG-13  356000000.0   \n",
       "615        0                                    NaN         NaN          NaN   \n",
       "\n",
       "            Gross Release Date      Genre  Runtime  Rating  Rating Count  \\\n",
       "0    2.960000e+08   1989-10-12    Romance     93.0     5.9       73638.0   \n",
       "1    1.457933e+08   1989-12-13     Comedy     99.0     7.4       91075.0   \n",
       "2    7.107992e+07   1989-07-28      Crime    100.0     7.2       91415.0   \n",
       "3    1.610017e+08   1989-12-20        War    145.0     7.2       91415.0   \n",
       "4    8.443162e+07   1989-04-21      Drama    107.0     7.5      101702.0   \n",
       "..            ...          ...        ...      ...     ...           ...   \n",
       "611  1.062000e+09   2019-06-11  Animation    100.0     NaN           NaN   \n",
       "612  7.594000e+08   2019-07-13   Thriller    136.0     NaN           NaN   \n",
       "613  1.632000e+09   2019-07-09      Drama    118.0     NaN           NaN   \n",
       "614  2.796000e+09   2019-04-22     Action    181.0     NaN           NaN   \n",
       "615           NaN          NaN        NaN      NaN     NaN           NaN   \n",
       "\n",
       "                                               Summary  \n",
       "0    After a single, career-minded woman is left on...  \n",
       "1    An old Jewish woman and her African-American c...  \n",
       "2    Det. Scott Turner (Tom Hanks) is an uptight, b...  \n",
       "3    The biography of Ron Kovic. Paralyzed in the V...  \n",
       "4    An Iowa corn farmer, hearing voices, interpret...  \n",
       "..                                                 ...  \n",
       "611                                                NaN  \n",
       "612                                                NaN  \n",
       "613                                                NaN  \n",
       "614                                                NaN  \n",
       "615                                                NaN  \n",
       "\n",
       "[616 rows x 11 columns]>"
      ]
     },
     "execution_count": 255,
     "metadata": {},
     "output_type": "execute_result"
    }
   ],
   "source": [
    "df.info"
   ]
  },
  {
   "cell_type": "code",
   "execution_count": 256,
   "metadata": {},
   "outputs": [
    {
     "data": {
      "text/plain": [
       "MovieID           int64\n",
       "Title            object\n",
       "MPAA Rating      object\n",
       "Budget          float64\n",
       "Gross           float64\n",
       "Release Date     object\n",
       "Genre            object\n",
       "Runtime         float64\n",
       "Rating          float64\n",
       "Rating Count    float64\n",
       "Summary          object\n",
       "dtype: object"
      ]
     },
     "execution_count": 256,
     "metadata": {},
     "output_type": "execute_result"
    }
   ],
   "source": [
    "df.dtypes"
   ]
  },
  {
   "cell_type": "code",
   "execution_count": 257,
   "metadata": {},
   "outputs": [
    {
     "data": {
      "text/plain": [
       "MovieID           0\n",
       "Title             1\n",
       "MPAA Rating       1\n",
       "Budget            1\n",
       "Gross             1\n",
       "Release Date      1\n",
       "Genre             1\n",
       "Runtime           1\n",
       "Rating          108\n",
       "Rating Count    108\n",
       "Summary         120\n",
       "dtype: int64"
      ]
     },
     "execution_count": 257,
     "metadata": {},
     "output_type": "execute_result"
    }
   ],
   "source": [
    "df.isnull().sum()"
   ]
  },
  {
   "cell_type": "code",
   "execution_count": 258,
   "metadata": {},
   "outputs": [],
   "source": [
    "# This was very important because I could only drop by converting to DataFrame. \n",
    "df = df.drop(columns='Summary')"
   ]
  },
  {
   "cell_type": "code",
   "execution_count": 259,
   "metadata": {},
   "outputs": [
    {
     "data": {
      "text/html": [
       "<div>\n",
       "<style scoped>\n",
       "    .dataframe tbody tr th:only-of-type {\n",
       "        vertical-align: middle;\n",
       "    }\n",
       "\n",
       "    .dataframe tbody tr th {\n",
       "        vertical-align: top;\n",
       "    }\n",
       "\n",
       "    .dataframe thead th {\n",
       "        text-align: right;\n",
       "    }\n",
       "</style>\n",
       "<table border=\"1\" class=\"dataframe\">\n",
       "  <thead>\n",
       "    <tr style=\"text-align: right;\">\n",
       "      <th></th>\n",
       "      <th>movie_id</th>\n",
       "      <th>title</th>\n",
       "      <th>mpaa_rating</th>\n",
       "      <th>budget</th>\n",
       "      <th>gross</th>\n",
       "      <th>release_date</th>\n",
       "      <th>genre</th>\n",
       "      <th>runtime</th>\n",
       "      <th>rating</th>\n",
       "      <th>rating_count</th>\n",
       "    </tr>\n",
       "  </thead>\n",
       "  <tbody>\n",
       "    <tr>\n",
       "      <th>0</th>\n",
       "      <td>1</td>\n",
       "      <td>Look Who's Talking</td>\n",
       "      <td>PG-13</td>\n",
       "      <td>7500000.0</td>\n",
       "      <td>2.960000e+08</td>\n",
       "      <td>1989-10-12</td>\n",
       "      <td>Romance</td>\n",
       "      <td>93.0</td>\n",
       "      <td>5.9</td>\n",
       "      <td>73638.0</td>\n",
       "    </tr>\n",
       "    <tr>\n",
       "      <th>1</th>\n",
       "      <td>2</td>\n",
       "      <td>Driving Miss Daisy</td>\n",
       "      <td>PG</td>\n",
       "      <td>7500000.0</td>\n",
       "      <td>1.457933e+08</td>\n",
       "      <td>1989-12-13</td>\n",
       "      <td>Comedy</td>\n",
       "      <td>99.0</td>\n",
       "      <td>7.4</td>\n",
       "      <td>91075.0</td>\n",
       "    </tr>\n",
       "    <tr>\n",
       "      <th>2</th>\n",
       "      <td>3</td>\n",
       "      <td>Turner &amp; Hooch</td>\n",
       "      <td>PG</td>\n",
       "      <td>13000000.0</td>\n",
       "      <td>7.107992e+07</td>\n",
       "      <td>1989-07-28</td>\n",
       "      <td>Crime</td>\n",
       "      <td>100.0</td>\n",
       "      <td>7.2</td>\n",
       "      <td>91415.0</td>\n",
       "    </tr>\n",
       "    <tr>\n",
       "      <th>3</th>\n",
       "      <td>4</td>\n",
       "      <td>Born on the Fourth of July</td>\n",
       "      <td>R</td>\n",
       "      <td>14000000.0</td>\n",
       "      <td>1.610017e+08</td>\n",
       "      <td>1989-12-20</td>\n",
       "      <td>War</td>\n",
       "      <td>145.0</td>\n",
       "      <td>7.2</td>\n",
       "      <td>91415.0</td>\n",
       "    </tr>\n",
       "    <tr>\n",
       "      <th>4</th>\n",
       "      <td>5</td>\n",
       "      <td>Field of Dreams</td>\n",
       "      <td>PG</td>\n",
       "      <td>15000000.0</td>\n",
       "      <td>8.443162e+07</td>\n",
       "      <td>1989-04-21</td>\n",
       "      <td>Drama</td>\n",
       "      <td>107.0</td>\n",
       "      <td>7.5</td>\n",
       "      <td>101702.0</td>\n",
       "    </tr>\n",
       "    <tr>\n",
       "      <th>...</th>\n",
       "      <td>...</td>\n",
       "      <td>...</td>\n",
       "      <td>...</td>\n",
       "      <td>...</td>\n",
       "      <td>...</td>\n",
       "      <td>...</td>\n",
       "      <td>...</td>\n",
       "      <td>...</td>\n",
       "      <td>...</td>\n",
       "      <td>...</td>\n",
       "    </tr>\n",
       "    <tr>\n",
       "      <th>611</th>\n",
       "      <td>612</td>\n",
       "      <td>Toy Story 4</td>\n",
       "      <td>G</td>\n",
       "      <td>200000000.0</td>\n",
       "      <td>1.062000e+09</td>\n",
       "      <td>2019-06-11</td>\n",
       "      <td>Animation</td>\n",
       "      <td>100.0</td>\n",
       "      <td>NaN</td>\n",
       "      <td>NaN</td>\n",
       "    </tr>\n",
       "    <tr>\n",
       "      <th>612</th>\n",
       "      <td>613</td>\n",
       "      <td>Fast &amp; Furious Presents: Hobbs &amp; Shaw</td>\n",
       "      <td>PG-13</td>\n",
       "      <td>200000000.0</td>\n",
       "      <td>7.594000e+08</td>\n",
       "      <td>2019-07-13</td>\n",
       "      <td>Thriller</td>\n",
       "      <td>136.0</td>\n",
       "      <td>NaN</td>\n",
       "      <td>NaN</td>\n",
       "    </tr>\n",
       "    <tr>\n",
       "      <th>613</th>\n",
       "      <td>614</td>\n",
       "      <td>The Lion King</td>\n",
       "      <td>PG</td>\n",
       "      <td>250000000.0</td>\n",
       "      <td>1.632000e+09</td>\n",
       "      <td>2019-07-09</td>\n",
       "      <td>Drama</td>\n",
       "      <td>118.0</td>\n",
       "      <td>NaN</td>\n",
       "      <td>NaN</td>\n",
       "    </tr>\n",
       "    <tr>\n",
       "      <th>614</th>\n",
       "      <td>615</td>\n",
       "      <td>Avengers: Endgame</td>\n",
       "      <td>PG-13</td>\n",
       "      <td>356000000.0</td>\n",
       "      <td>2.796000e+09</td>\n",
       "      <td>2019-04-22</td>\n",
       "      <td>Action</td>\n",
       "      <td>181.0</td>\n",
       "      <td>NaN</td>\n",
       "      <td>NaN</td>\n",
       "    </tr>\n",
       "    <tr>\n",
       "      <th>615</th>\n",
       "      <td>0</td>\n",
       "      <td>NaN</td>\n",
       "      <td>NaN</td>\n",
       "      <td>NaN</td>\n",
       "      <td>NaN</td>\n",
       "      <td>NaN</td>\n",
       "      <td>NaN</td>\n",
       "      <td>NaN</td>\n",
       "      <td>NaN</td>\n",
       "      <td>NaN</td>\n",
       "    </tr>\n",
       "  </tbody>\n",
       "</table>\n",
       "<p>616 rows × 10 columns</p>\n",
       "</div>"
      ],
      "text/plain": [
       "     movie_id                                  title mpaa_rating       budget  \\\n",
       "0           1                     Look Who's Talking       PG-13    7500000.0   \n",
       "1           2                     Driving Miss Daisy          PG    7500000.0   \n",
       "2           3                         Turner & Hooch          PG   13000000.0   \n",
       "3           4             Born on the Fourth of July           R   14000000.0   \n",
       "4           5                        Field of Dreams          PG   15000000.0   \n",
       "..        ...                                    ...         ...          ...   \n",
       "611       612                            Toy Story 4           G  200000000.0   \n",
       "612       613  Fast & Furious Presents: Hobbs & Shaw       PG-13  200000000.0   \n",
       "613       614                          The Lion King          PG  250000000.0   \n",
       "614       615                      Avengers: Endgame       PG-13  356000000.0   \n",
       "615         0                                    NaN         NaN          NaN   \n",
       "\n",
       "            gross release_date      genre  runtime  rating  rating_count  \n",
       "0    2.960000e+08   1989-10-12    Romance     93.0     5.9       73638.0  \n",
       "1    1.457933e+08   1989-12-13     Comedy     99.0     7.4       91075.0  \n",
       "2    7.107992e+07   1989-07-28      Crime    100.0     7.2       91415.0  \n",
       "3    1.610017e+08   1989-12-20        War    145.0     7.2       91415.0  \n",
       "4    8.443162e+07   1989-04-21      Drama    107.0     7.5      101702.0  \n",
       "..            ...          ...        ...      ...     ...           ...  \n",
       "611  1.062000e+09   2019-06-11  Animation    100.0     NaN           NaN  \n",
       "612  7.594000e+08   2019-07-13   Thriller    136.0     NaN           NaN  \n",
       "613  1.632000e+09   2019-07-09      Drama    118.0     NaN           NaN  \n",
       "614  2.796000e+09   2019-04-22     Action    181.0     NaN           NaN  \n",
       "615           NaN          NaN        NaN      NaN     NaN           NaN  \n",
       "\n",
       "[616 rows x 10 columns]"
      ]
     },
     "execution_count": 259,
     "metadata": {},
     "output_type": "execute_result"
    }
   ],
   "source": [
    "df = df.rename(str.lower, axis=1)\n",
    "df = df.rename(columns={'movieid':'movie_id', 'mpaa rating':'mpaa_rating', 'release date':'release_date', 'rating count':'rating_count'})\n",
    "df"
   ]
  },
  {
   "cell_type": "code",
   "execution_count": 260,
   "metadata": {},
   "outputs": [
    {
     "name": "stdout",
     "output_type": "stream",
     "text": [
      "movie_id  title  mpaa_rating  budget  gross  release_date  genre  runtime  rating  rating_count\n",
      "False     False  False        False   False  False         False  False    False   False           508\n",
      "                                                                           True    True            107\n",
      "          True   True         True    True   True          True   True     True    True              1\n",
      "Name: count, dtype: int64\n"
     ]
    }
   ],
   "source": [
    "# This is confusing so better I used df.info()\n",
    "print(df.isna().value_counts())\n"
   ]
  },
  {
   "cell_type": "code",
   "execution_count": 261,
   "metadata": {},
   "outputs": [
    {
     "name": "stdout",
     "output_type": "stream",
     "text": [
      "<class 'pandas.core.frame.DataFrame'>\n",
      "RangeIndex: 616 entries, 0 to 615\n",
      "Data columns (total 10 columns):\n",
      " #   Column        Non-Null Count  Dtype  \n",
      "---  ------        --------------  -----  \n",
      " 0   movie_id      616 non-null    int64  \n",
      " 1   title         615 non-null    object \n",
      " 2   mpaa_rating   615 non-null    object \n",
      " 3   budget        615 non-null    float64\n",
      " 4   gross         615 non-null    float64\n",
      " 5   release_date  615 non-null    object \n",
      " 6   genre         615 non-null    object \n",
      " 7   runtime       615 non-null    float64\n",
      " 8   rating        508 non-null    float64\n",
      " 9   rating_count  508 non-null    float64\n",
      "dtypes: float64(5), int64(1), object(4)\n",
      "memory usage: 48.2+ KB\n"
     ]
    }
   ],
   "source": [
    "df.info()"
   ]
  },
  {
   "cell_type": "code",
   "execution_count": 262,
   "metadata": {},
   "outputs": [],
   "source": [
    "df = df.fillna({'rating':df['rating'].median()}, inplace=True)"
   ]
  },
  {
   "cell_type": "code",
   "execution_count": 264,
   "metadata": {},
   "outputs": [
    {
     "ename": "AttributeError",
     "evalue": "'NoneType' object has no attribute 'info'",
     "output_type": "error",
     "traceback": [
      "\u001b[0;31m---------------------------------------------------------------------------\u001b[0m",
      "\u001b[0;31mAttributeError\u001b[0m                            Traceback (most recent call last)",
      "Cell \u001b[0;32mIn[264], line 1\u001b[0m\n\u001b[0;32m----> 1\u001b[0m \u001b[43mdf\u001b[49m\u001b[38;5;241;43m.\u001b[39;49m\u001b[43minfo\u001b[49m\n",
      "\u001b[0;31mAttributeError\u001b[0m: 'NoneType' object has no attribute 'info'"
     ]
    }
   ],
   "source": [
    "df.info"
   ]
  },
  {
   "cell_type": "code",
   "execution_count": null,
   "metadata": {},
   "outputs": [
    {
     "ename": "AttributeError",
     "evalue": "'NoneType' object has no attribute 'dropna'",
     "output_type": "error",
     "traceback": [
      "\u001b[0;31m---------------------------------------------------------------------------\u001b[0m",
      "\u001b[0;31mAttributeError\u001b[0m                            Traceback (most recent call last)",
      "Cell \u001b[0;32mIn[238], line 1\u001b[0m\n\u001b[0;32m----> 1\u001b[0m \u001b[43mdf\u001b[49m\u001b[38;5;241;43m.\u001b[39;49m\u001b[43mdropna\u001b[49m()\n",
      "\u001b[0;31mAttributeError\u001b[0m: 'NoneType' object has no attribute 'dropna'"
     ]
    }
   ],
   "source": [
    "df.dropna()"
   ]
  },
  {
   "cell_type": "code",
   "execution_count": null,
   "metadata": {},
   "outputs": [
    {
     "name": "stdout",
     "output_type": "stream",
     "text": [
      "<class 'pandas.core.frame.DataFrame'>\n",
      "RangeIndex: 616 entries, 0 to 615\n",
      "Data columns (total 10 columns):\n",
      " #   Column        Non-Null Count  Dtype  \n",
      "---  ------        --------------  -----  \n",
      " 0   movie_id      616 non-null    int64  \n",
      " 1   title         615 non-null    object \n",
      " 2   mpaa_rating   615 non-null    object \n",
      " 3   budget        615 non-null    float64\n",
      " 4   gross         615 non-null    float64\n",
      " 5   release_date  615 non-null    object \n",
      " 6   genre         615 non-null    object \n",
      " 7   runtime       615 non-null    float64\n",
      " 8   rating        508 non-null    float64\n",
      " 9   rating_count  508 non-null    float64\n",
      "dtypes: float64(5), int64(1), object(4)\n",
      "memory usage: 48.2+ KB\n"
     ]
    }
   ],
   "source": [
    "df.info()"
   ]
  },
  {
   "cell_type": "markdown",
   "metadata": {},
   "source": [
    "# Show the movies with more than 7 in Rating & greater than 50 million Gross\n",
    "\n"
   ]
  },
  {
   "cell_type": "code",
   "execution_count": null,
   "metadata": {},
   "outputs": [
    {
     "ename": "KeyError",
     "evalue": "'Rating'",
     "output_type": "error",
     "traceback": [
      "\u001b[0;31m---------------------------------------------------------------------------\u001b[0m",
      "\u001b[0;31mKeyError\u001b[0m                                  Traceback (most recent call last)",
      "File \u001b[0;32m/opt/anaconda3/envs/MarcosPython10/lib/python3.10/site-packages/pandas/core/indexes/base.py:3812\u001b[0m, in \u001b[0;36mIndex.get_loc\u001b[0;34m(self, key)\u001b[0m\n\u001b[1;32m   3811\u001b[0m \u001b[38;5;28;01mtry\u001b[39;00m:\n\u001b[0;32m-> 3812\u001b[0m     \u001b[38;5;28;01mreturn\u001b[39;00m \u001b[38;5;28;43mself\u001b[39;49m\u001b[38;5;241;43m.\u001b[39;49m\u001b[43m_engine\u001b[49m\u001b[38;5;241;43m.\u001b[39;49m\u001b[43mget_loc\u001b[49m\u001b[43m(\u001b[49m\u001b[43mcasted_key\u001b[49m\u001b[43m)\u001b[49m\n\u001b[1;32m   3813\u001b[0m \u001b[38;5;28;01mexcept\u001b[39;00m \u001b[38;5;167;01mKeyError\u001b[39;00m \u001b[38;5;28;01mas\u001b[39;00m err:\n",
      "File \u001b[0;32mpandas/_libs/index.pyx:167\u001b[0m, in \u001b[0;36mpandas._libs.index.IndexEngine.get_loc\u001b[0;34m()\u001b[0m\n",
      "File \u001b[0;32mpandas/_libs/index.pyx:196\u001b[0m, in \u001b[0;36mpandas._libs.index.IndexEngine.get_loc\u001b[0;34m()\u001b[0m\n",
      "File \u001b[0;32mpandas/_libs/hashtable_class_helper.pxi:7088\u001b[0m, in \u001b[0;36mpandas._libs.hashtable.PyObjectHashTable.get_item\u001b[0;34m()\u001b[0m\n",
      "File \u001b[0;32mpandas/_libs/hashtable_class_helper.pxi:7096\u001b[0m, in \u001b[0;36mpandas._libs.hashtable.PyObjectHashTable.get_item\u001b[0;34m()\u001b[0m\n",
      "\u001b[0;31mKeyError\u001b[0m: 'Rating'",
      "\nThe above exception was the direct cause of the following exception:\n",
      "\u001b[0;31mKeyError\u001b[0m                                  Traceback (most recent call last)",
      "Cell \u001b[0;32mIn[145], line 1\u001b[0m\n\u001b[0;32m----> 1\u001b[0m ratingandgross \u001b[38;5;241m=\u001b[39m df[(\u001b[43mdf\u001b[49m\u001b[43m[\u001b[49m\u001b[38;5;124;43m'\u001b[39;49m\u001b[38;5;124;43mRating\u001b[39;49m\u001b[38;5;124;43m'\u001b[39;49m\u001b[43m]\u001b[49m \u001b[38;5;241m>\u001b[39m \u001b[38;5;241m7\u001b[39m) \u001b[38;5;241m&\u001b[39m (df[\u001b[38;5;124m'\u001b[39m\u001b[38;5;124mGross\u001b[39m\u001b[38;5;124m'\u001b[39m] \u001b[38;5;241m>\u001b[39m \u001b[38;5;241m50000000.0\u001b[39m)]\n\u001b[1;32m      2\u001b[0m \u001b[38;5;28mprint\u001b[39m(ratingandgross[[\u001b[38;5;124m'\u001b[39m\u001b[38;5;124mTitle\u001b[39m\u001b[38;5;124m'\u001b[39m, \u001b[38;5;124m'\u001b[39m\u001b[38;5;124mRating\u001b[39m\u001b[38;5;124m'\u001b[39m, \u001b[38;5;124m'\u001b[39m\u001b[38;5;124mGross\u001b[39m\u001b[38;5;124m'\u001b[39m]])\n\u001b[1;32m      3\u001b[0m \u001b[38;5;28mprint\u001b[39m(\u001b[38;5;124m'\u001b[39m\u001b[38;5;124m-----\u001b[39m\u001b[38;5;124m'\u001b[39m)\n",
      "File \u001b[0;32m/opt/anaconda3/envs/MarcosPython10/lib/python3.10/site-packages/pandas/core/frame.py:4107\u001b[0m, in \u001b[0;36mDataFrame.__getitem__\u001b[0;34m(self, key)\u001b[0m\n\u001b[1;32m   4105\u001b[0m \u001b[38;5;28;01mif\u001b[39;00m \u001b[38;5;28mself\u001b[39m\u001b[38;5;241m.\u001b[39mcolumns\u001b[38;5;241m.\u001b[39mnlevels \u001b[38;5;241m>\u001b[39m \u001b[38;5;241m1\u001b[39m:\n\u001b[1;32m   4106\u001b[0m     \u001b[38;5;28;01mreturn\u001b[39;00m \u001b[38;5;28mself\u001b[39m\u001b[38;5;241m.\u001b[39m_getitem_multilevel(key)\n\u001b[0;32m-> 4107\u001b[0m indexer \u001b[38;5;241m=\u001b[39m \u001b[38;5;28;43mself\u001b[39;49m\u001b[38;5;241;43m.\u001b[39;49m\u001b[43mcolumns\u001b[49m\u001b[38;5;241;43m.\u001b[39;49m\u001b[43mget_loc\u001b[49m\u001b[43m(\u001b[49m\u001b[43mkey\u001b[49m\u001b[43m)\u001b[49m\n\u001b[1;32m   4108\u001b[0m \u001b[38;5;28;01mif\u001b[39;00m is_integer(indexer):\n\u001b[1;32m   4109\u001b[0m     indexer \u001b[38;5;241m=\u001b[39m [indexer]\n",
      "File \u001b[0;32m/opt/anaconda3/envs/MarcosPython10/lib/python3.10/site-packages/pandas/core/indexes/base.py:3819\u001b[0m, in \u001b[0;36mIndex.get_loc\u001b[0;34m(self, key)\u001b[0m\n\u001b[1;32m   3814\u001b[0m     \u001b[38;5;28;01mif\u001b[39;00m \u001b[38;5;28misinstance\u001b[39m(casted_key, \u001b[38;5;28mslice\u001b[39m) \u001b[38;5;129;01mor\u001b[39;00m (\n\u001b[1;32m   3815\u001b[0m         \u001b[38;5;28misinstance\u001b[39m(casted_key, abc\u001b[38;5;241m.\u001b[39mIterable)\n\u001b[1;32m   3816\u001b[0m         \u001b[38;5;129;01mand\u001b[39;00m \u001b[38;5;28many\u001b[39m(\u001b[38;5;28misinstance\u001b[39m(x, \u001b[38;5;28mslice\u001b[39m) \u001b[38;5;28;01mfor\u001b[39;00m x \u001b[38;5;129;01min\u001b[39;00m casted_key)\n\u001b[1;32m   3817\u001b[0m     ):\n\u001b[1;32m   3818\u001b[0m         \u001b[38;5;28;01mraise\u001b[39;00m InvalidIndexError(key)\n\u001b[0;32m-> 3819\u001b[0m     \u001b[38;5;28;01mraise\u001b[39;00m \u001b[38;5;167;01mKeyError\u001b[39;00m(key) \u001b[38;5;28;01mfrom\u001b[39;00m\u001b[38;5;250m \u001b[39m\u001b[38;5;21;01merr\u001b[39;00m\n\u001b[1;32m   3820\u001b[0m \u001b[38;5;28;01mexcept\u001b[39;00m \u001b[38;5;167;01mTypeError\u001b[39;00m:\n\u001b[1;32m   3821\u001b[0m     \u001b[38;5;66;03m# If we have a listlike key, _check_indexing_error will raise\u001b[39;00m\n\u001b[1;32m   3822\u001b[0m     \u001b[38;5;66;03m#  InvalidIndexError. Otherwise we fall through and re-raise\u001b[39;00m\n\u001b[1;32m   3823\u001b[0m     \u001b[38;5;66;03m#  the TypeError.\u001b[39;00m\n\u001b[1;32m   3824\u001b[0m     \u001b[38;5;28mself\u001b[39m\u001b[38;5;241m.\u001b[39m_check_indexing_error(key)\n",
      "\u001b[0;31mKeyError\u001b[0m: 'Rating'"
     ]
    }
   ],
   "source": [
    "ratingandgross = df[(df['Rating'] > 7) & (df['Gross'] > 50000000.0)]\n",
    "print(ratingandgross[['Title', 'Rating', 'Gross']])\n",
    "print('-----')\n",
    "ratingandgross.count()"
   ]
  },
  {
   "cell_type": "markdown",
   "metadata": {},
   "source": [
    "# Show the movies with more than 7 in Rating & greater than 50 million Gross & MPAA Rating as PG\n",
    "\n"
   ]
  },
  {
   "cell_type": "code",
   "execution_count": null,
   "metadata": {},
   "outputs": [
    {
     "name": "stdout",
     "output_type": "stream",
     "text": [
      "                                        Title  Rating         Gross  \\\n",
      "1                          Driving Miss Daisy     7.4  1.457933e+08   \n",
      "2                              Turner & Hooch     7.2  7.107992e+07   \n",
      "4                             Field of Dreams     7.5  8.443162e+07   \n",
      "7                          Dead Poets Society     8.1  2.358601e+08   \n",
      "13                                     Batman     7.5  4.113489e+08   \n",
      "15                         The Little Mermaid     7.6  2.223000e+08   \n",
      "16                 Back to the Future Part II     7.8  3.320000e+08   \n",
      "19                            Steel Magnolias     7.3  9.590409e+07   \n",
      "24                                 Home Alone     7.6  4.766847e+08   \n",
      "32                   The Hunt for Red October     7.6  1.992000e+08   \n",
      "34                Back to the Future Part III     7.4  2.445276e+08   \n",
      "45            Teenage Mutant Ninja Turtles II     8.0  7.860000e+07   \n",
      "46                       Beauty and the Beast     8.0  3.773506e+08   \n",
      "49     Star Trek VI: The Undiscovered Country     7.2  9.690000e+07   \n",
      "72                      A League of Their Own     7.2  1.074588e+08   \n",
      "80                              Groundhog Day     8.0  7.090697e+07   \n",
      "106                    Star Trek: Generations     8.5  1.200000e+08   \n",
      "126                        Mr. Holland's Opus     7.3  1.062700e+08   \n",
      "130                                 Apollo 13     7.6  3.552379e+08   \n",
      "174                                   Contact     7.4  1.711203e+08   \n",
      "185                           The Truman Show     8.1  2.641182e+08   \n",
      "188                       The Prince of Egypt     7.1  2.186132e+08   \n",
      "215                                    Tarzan     7.3  4.480000e+08   \n",
      "220                       Remember the Titans     7.8  1.367067e+08   \n",
      "241                                     Shrek     7.8  4.844092e+08   \n",
      "255     Harry Potter and the Sorcerer's Stone     7.6  9.751000e+08   \n",
      "261                                   Ice Age     7.5  3.832571e+08   \n",
      "270   Harry Potter and the Chamber of Secrets     7.4  8.766885e+08   \n",
      "304                           The Incredibles     8.0  6.314421e+08   \n",
      "309  Harry Potter and the Prisoner of Azkaban     7.9  7.898046e+08   \n",
      "311                                   Shrek 2     7.2  9.198388e+08   \n",
      "385                             Kung Fu Panda     7.5  6.317446e+08   \n",
      "410                        Monsters vs Aliens     7.7  3.815099e+08   \n",
      "411                                        Up     8.2  7.350991e+08   \n",
      "415    Harry Potter and the Half-Blood Prince     7.6  9.339592e+08   \n",
      "420                             Despicable Me     7.6  5.435140e+08   \n",
      "425                                  Megamind     7.2  3.218872e+08   \n",
      "428                  How to Train Your Dragon     8.1  4.948788e+08   \n",
      "435                                   Tangled     7.7  5.917949e+08   \n",
      "447          Puss in Boots: The Three Diablos     7.8  5.550000e+08   \n",
      "451                           Kung Fu Panda 2     7.2  6.656923e+08   \n",
      "461                        Hotel Transylvania     7.1  3.583756e+08   \n",
      "466                            Wreck-It Ralph     7.7  4.712229e+08   \n",
      "468                                     Brave     7.1  5.389832e+08   \n",
      "480                           Despicable Me 2     7.4  9.707619e+08   \n",
      "484                                The Croods     7.2  5.851789e+08   \n",
      "485                                    Frozen     7.5  1.274219e+09   \n",
      "498                            The Lego Movie     7.8  4.691607e+08   \n",
      "503                How to Train Your Dragon 2     7.8  6.091230e+08   \n",
      "505                                Big Hero 6     7.8  6.521054e+08   \n",
      "\n",
      "    MPAA Rating  \n",
      "1            PG  \n",
      "2            PG  \n",
      "4            PG  \n",
      "7            PG  \n",
      "13           PG  \n",
      "15           PG  \n",
      "16           PG  \n",
      "19           PG  \n",
      "24           PG  \n",
      "32           PG  \n",
      "34           PG  \n",
      "45           PG  \n",
      "46           PG  \n",
      "49           PG  \n",
      "72           PG  \n",
      "80           PG  \n",
      "106          PG  \n",
      "126          PG  \n",
      "130          PG  \n",
      "174          PG  \n",
      "185          PG  \n",
      "188          PG  \n",
      "215          PG  \n",
      "220          PG  \n",
      "241          PG  \n",
      "255          PG  \n",
      "261          PG  \n",
      "270          PG  \n",
      "304          PG  \n",
      "309          PG  \n",
      "311          PG  \n",
      "385          PG  \n",
      "410          PG  \n",
      "411          PG  \n",
      "415          PG  \n",
      "420          PG  \n",
      "425          PG  \n",
      "428          PG  \n",
      "435          PG  \n",
      "447          PG  \n",
      "451          PG  \n",
      "461          PG  \n",
      "466          PG  \n",
      "468          PG  \n",
      "480          PG  \n",
      "484          PG  \n",
      "485          PG  \n",
      "498          PG  \n",
      "503          PG  \n",
      "505          PG  \n",
      "-----\n",
      "MovieID         50\n",
      "Title           50\n",
      "MPAA Rating     50\n",
      "Budget          50\n",
      "Gross           50\n",
      "Release Date    50\n",
      "Genre           50\n",
      "Runtime         50\n",
      "Rating          50\n",
      "Rating Count    50\n",
      "Summary         48\n",
      "dtype: int64\n"
     ]
    }
   ],
   "source": [
    "ratingandgrossandMPAA = df[(df['Rating'] > 7) & (df['Gross'] > 50000000.0) & (df['MPAA Rating'] == 'PG')]\n",
    "print(ratingandgrossandMPAA[['Title', 'Rating', 'Gross', 'MPAA Rating']])\n",
    "print('-----')\n",
    "print(ratingandgrossandMPAA.count())"
   ]
  },
  {
   "cell_type": "markdown",
   "metadata": {},
   "source": [
    "# Show the count of Animation movies with more than 7 in Rating (use the shape() method)\n",
    "\n"
   ]
  },
  {
   "cell_type": "code",
   "execution_count": null,
   "metadata": {},
   "outputs": [
    {
     "data": {
      "text/plain": [
       "MovieID         39\n",
       "Title           39\n",
       "MPAA Rating     39\n",
       "Budget          39\n",
       "Gross           39\n",
       "Release Date    39\n",
       "Genre           39\n",
       "Runtime         39\n",
       "Rating          39\n",
       "Rating Count    39\n",
       "Summary         36\n",
       "dtype: int64"
      ]
     },
     "execution_count": 124,
     "metadata": {},
     "output_type": "execute_result"
    }
   ],
   "source": [
    "df[((df['Genre'] == 'Animation') & (df['Rating'] > 7))].count()\n"
   ]
  },
  {
   "cell_type": "markdown",
   "metadata": {},
   "source": [
    "# Show the top 5 movies based on Budget"
   ]
  },
  {
   "cell_type": "code",
   "execution_count": null,
   "metadata": {},
   "outputs": [
    {
     "data": {
      "text/html": [
       "<div>\n",
       "<style scoped>\n",
       "    .dataframe tbody tr th:only-of-type {\n",
       "        vertical-align: middle;\n",
       "    }\n",
       "\n",
       "    .dataframe tbody tr th {\n",
       "        vertical-align: top;\n",
       "    }\n",
       "\n",
       "    .dataframe thead th {\n",
       "        text-align: right;\n",
       "    }\n",
       "</style>\n",
       "<table border=\"1\" class=\"dataframe\">\n",
       "  <thead>\n",
       "    <tr style=\"text-align: right;\">\n",
       "      <th></th>\n",
       "      <th>MovieID</th>\n",
       "      <th>Title</th>\n",
       "      <th>MPAA Rating</th>\n",
       "      <th>Budget</th>\n",
       "      <th>Gross</th>\n",
       "      <th>Release Date</th>\n",
       "      <th>Genre</th>\n",
       "      <th>Runtime</th>\n",
       "      <th>Rating</th>\n",
       "      <th>Rating Count</th>\n",
       "      <th>Summary</th>\n",
       "    </tr>\n",
       "  </thead>\n",
       "  <tbody>\n",
       "    <tr>\n",
       "      <th>594</th>\n",
       "      <td>595</td>\n",
       "      <td>Avengers: Infinity War</td>\n",
       "      <td>PG-13</td>\n",
       "      <td>400000000.0</td>\n",
       "      <td>2.048000e+09</td>\n",
       "      <td>2018-04-23</td>\n",
       "      <td>Action</td>\n",
       "      <td>149.0</td>\n",
       "      <td>NaN</td>\n",
       "      <td>NaN</td>\n",
       "      <td>NaN</td>\n",
       "    </tr>\n",
       "    <tr>\n",
       "      <th>454</th>\n",
       "      <td>455</td>\n",
       "      <td>Pirates of the Caribbean: On Stranger Tides</td>\n",
       "      <td>PG-13</td>\n",
       "      <td>380000000.0</td>\n",
       "      <td>1.045714e+09</td>\n",
       "      <td>2011-05-14</td>\n",
       "      <td>Action</td>\n",
       "      <td>136.0</td>\n",
       "      <td>6.6</td>\n",
       "      <td>455211.0</td>\n",
       "      <td>Jack Sparrow and Barbossa embark on a quest to...</td>\n",
       "    </tr>\n",
       "    <tr>\n",
       "      <th>614</th>\n",
       "      <td>615</td>\n",
       "      <td>Avengers: Endgame</td>\n",
       "      <td>PG-13</td>\n",
       "      <td>356000000.0</td>\n",
       "      <td>2.796000e+09</td>\n",
       "      <td>2019-04-22</td>\n",
       "      <td>Action</td>\n",
       "      <td>181.0</td>\n",
       "      <td>NaN</td>\n",
       "      <td>NaN</td>\n",
       "      <td>NaN</td>\n",
       "    </tr>\n",
       "    <tr>\n",
       "      <th>574</th>\n",
       "      <td>575</td>\n",
       "      <td>Star Wars: The Last Jedi</td>\n",
       "      <td>PG-13</td>\n",
       "      <td>317000000.0</td>\n",
       "      <td>1.333000e+09</td>\n",
       "      <td>2019-12-09</td>\n",
       "      <td>Science Fiction</td>\n",
       "      <td>152.0</td>\n",
       "      <td>NaN</td>\n",
       "      <td>NaN</td>\n",
       "      <td>NaN</td>\n",
       "    </tr>\n",
       "    <tr>\n",
       "      <th>375</th>\n",
       "      <td>376</td>\n",
       "      <td>Pirates of the Caribbean: At World's End</td>\n",
       "      <td>PG-13</td>\n",
       "      <td>300000000.0</td>\n",
       "      <td>9.610000e+08</td>\n",
       "      <td>2007-05-19</td>\n",
       "      <td>Adventure</td>\n",
       "      <td>169.0</td>\n",
       "      <td>7.1</td>\n",
       "      <td>565402.0</td>\n",
       "      <td>Captain Barbossa, Will Turner and Elizabeth Sw...</td>\n",
       "    </tr>\n",
       "  </tbody>\n",
       "</table>\n",
       "</div>"
      ],
      "text/plain": [
       "     MovieID                                        Title MPAA Rating  \\\n",
       "594      595                       Avengers: Infinity War       PG-13   \n",
       "454      455  Pirates of the Caribbean: On Stranger Tides       PG-13   \n",
       "614      615                            Avengers: Endgame       PG-13   \n",
       "574      575                     Star Wars: The Last Jedi       PG-13   \n",
       "375      376     Pirates of the Caribbean: At World's End       PG-13   \n",
       "\n",
       "          Budget         Gross Release Date            Genre  Runtime  Rating  \\\n",
       "594  400000000.0  2.048000e+09   2018-04-23           Action    149.0     NaN   \n",
       "454  380000000.0  1.045714e+09   2011-05-14           Action    136.0     6.6   \n",
       "614  356000000.0  2.796000e+09   2019-04-22           Action    181.0     NaN   \n",
       "574  317000000.0  1.333000e+09   2019-12-09  Science Fiction    152.0     NaN   \n",
       "375  300000000.0  9.610000e+08   2007-05-19        Adventure    169.0     7.1   \n",
       "\n",
       "     Rating Count                                            Summary  \n",
       "594           NaN                                                NaN  \n",
       "454      455211.0  Jack Sparrow and Barbossa embark on a quest to...  \n",
       "614           NaN                                                NaN  \n",
       "574           NaN                                                NaN  \n",
       "375      565402.0  Captain Barbossa, Will Turner and Elizabeth Sw...  "
      ]
     },
     "execution_count": 125,
     "metadata": {},
     "output_type": "execute_result"
    }
   ],
   "source": [
    "df.sort_values('Budget', ascending=False).head(5)"
   ]
  },
  {
   "cell_type": "markdown",
   "metadata": {},
   "source": [
    "# Show the top 5 Comedy movies by Rating\n",
    "\n"
   ]
  },
  {
   "cell_type": "code",
   "execution_count": null,
   "metadata": {},
   "outputs": [
    {
     "data": {
      "text/html": [
       "<div>\n",
       "<style scoped>\n",
       "    .dataframe tbody tr th:only-of-type {\n",
       "        vertical-align: middle;\n",
       "    }\n",
       "\n",
       "    .dataframe tbody tr th {\n",
       "        vertical-align: top;\n",
       "    }\n",
       "\n",
       "    .dataframe thead th {\n",
       "        text-align: right;\n",
       "    }\n",
       "</style>\n",
       "<table border=\"1\" class=\"dataframe\">\n",
       "  <thead>\n",
       "    <tr style=\"text-align: right;\">\n",
       "      <th></th>\n",
       "      <th>Title</th>\n",
       "      <th>Genre</th>\n",
       "      <th>Rating</th>\n",
       "    </tr>\n",
       "  </thead>\n",
       "  <tbody>\n",
       "    <tr>\n",
       "      <th>111</th>\n",
       "      <td>Forrest Gump</td>\n",
       "      <td>Comedy</td>\n",
       "      <td>8.8</td>\n",
       "    </tr>\n",
       "    <tr>\n",
       "      <th>185</th>\n",
       "      <td>The Truman Show</td>\n",
       "      <td>Comedy</td>\n",
       "      <td>8.1</td>\n",
       "    </tr>\n",
       "    <tr>\n",
       "      <th>80</th>\n",
       "      <td>Groundhog Day</td>\n",
       "      <td>Comedy</td>\n",
       "      <td>8.0</td>\n",
       "    </tr>\n",
       "    <tr>\n",
       "      <th>254</th>\n",
       "      <td>Monsters, Inc.</td>\n",
       "      <td>Comedy</td>\n",
       "      <td>8.0</td>\n",
       "    </tr>\n",
       "    <tr>\n",
       "      <th>40</th>\n",
       "      <td>Fried Green Tomatoes</td>\n",
       "      <td>Comedy</td>\n",
       "      <td>7.7</td>\n",
       "    </tr>\n",
       "  </tbody>\n",
       "</table>\n",
       "</div>"
      ],
      "text/plain": [
       "                    Title   Genre  Rating\n",
       "111          Forrest Gump  Comedy     8.8\n",
       "185       The Truman Show  Comedy     8.1\n",
       "80          Groundhog Day  Comedy     8.0\n",
       "254        Monsters, Inc.  Comedy     8.0\n",
       "40   Fried Green Tomatoes  Comedy     7.7"
      ]
     },
     "execution_count": 126,
     "metadata": {},
     "output_type": "execute_result"
    }
   ],
   "source": [
    "# csv.sort_values('Budget', ascending=False).head(5)\n",
    "\n",
    "# csv[('Genre' == 'Comedy')].sort_values('Rating', ascending=False)\n",
    "\n",
    "#csv_new = csv.sort_values('Rating', ascending=False)\n",
    "#csv_new[('Genre' == 'Comedy')]\n",
    "\n",
    "#csv_new = csv[('Genre' == 'Comedy')].sort_values(['Genre', 'Rating'], ascending=False)\n",
    "#csv_new.head(20)\n",
    "\n",
    "\n",
    "# Reference csv[((csv['Genre'] == 'Animation') & (csv['Rating'] > 7))].count()\n",
    "\n",
    "\n",
    "df_new = df[(df['Genre'] == 'Comedy')].sort_values(['Genre', 'Rating'], ascending=False)\n",
    "df_new[['Title', 'Genre', 'Rating']].head(5)"
   ]
  },
  {
   "cell_type": "markdown",
   "metadata": {},
   "source": [
    "# Top 5 movie names by Rating\n",
    "\n"
   ]
  },
  {
   "cell_type": "code",
   "execution_count": null,
   "metadata": {},
   "outputs": [
    {
     "data": {
      "text/html": [
       "<div>\n",
       "<style scoped>\n",
       "    .dataframe tbody tr th:only-of-type {\n",
       "        vertical-align: middle;\n",
       "    }\n",
       "\n",
       "    .dataframe tbody tr th {\n",
       "        vertical-align: top;\n",
       "    }\n",
       "\n",
       "    .dataframe thead th {\n",
       "        text-align: right;\n",
       "    }\n",
       "</style>\n",
       "<table border=\"1\" class=\"dataframe\">\n",
       "  <thead>\n",
       "    <tr style=\"text-align: right;\">\n",
       "      <th></th>\n",
       "      <th>Title</th>\n",
       "      <th>Rating</th>\n",
       "    </tr>\n",
       "  </thead>\n",
       "  <tbody>\n",
       "    <tr>\n",
       "      <th>393</th>\n",
       "      <td>The Dark Knight</td>\n",
       "      <td>9.0</td>\n",
       "    </tr>\n",
       "    <tr>\n",
       "      <th>98</th>\n",
       "      <td>Jurassic Park III</td>\n",
       "      <td>8.9</td>\n",
       "    </tr>\n",
       "    <tr>\n",
       "      <th>287</th>\n",
       "      <td>The Lord of the Rings: The Return of the King</td>\n",
       "      <td>8.9</td>\n",
       "    </tr>\n",
       "    <tr>\n",
       "      <th>99</th>\n",
       "      <td>Pulp Fiction</td>\n",
       "      <td>8.9</td>\n",
       "    </tr>\n",
       "    <tr>\n",
       "      <th>83</th>\n",
       "      <td>Schindler's List</td>\n",
       "      <td>8.9</td>\n",
       "    </tr>\n",
       "  </tbody>\n",
       "</table>\n",
       "</div>"
      ],
      "text/plain": [
       "                                             Title  Rating\n",
       "393                                The Dark Knight     9.0\n",
       "98                               Jurassic Park III     8.9\n",
       "287  The Lord of the Rings: The Return of the King     8.9\n",
       "99                                    Pulp Fiction     8.9\n",
       "83                                Schindler's List     8.9"
      ]
     },
     "execution_count": 127,
     "metadata": {},
     "output_type": "execute_result"
    }
   ],
   "source": [
    "df_new2 = df.sort_values('Rating', ascending=False)\n",
    "df_new2[['Title', 'Rating']].head()"
   ]
  },
  {
   "cell_type": "markdown",
   "metadata": {},
   "source": [
    "TEST"
   ]
  },
  {
   "cell_type": "code",
   "execution_count": null,
   "metadata": {},
   "outputs": [],
   "source": []
  },
  {
   "cell_type": "markdown",
   "metadata": {},
   "source": [
    "# Top 3 high Gross Romance movies released after 1999 (typecast it to datetime)\n",
    "\n"
   ]
  },
  {
   "cell_type": "code",
   "execution_count": null,
   "metadata": {},
   "outputs": [
    {
     "data": {
      "text/plain": [
       "0     1989-10-12\n",
       "1     1989-12-13\n",
       "2     1989-07-28\n",
       "3     1989-12-20\n",
       "4     1989-04-21\n",
       "         ...    \n",
       "611   2019-06-11\n",
       "612   2019-07-13\n",
       "613   2019-07-09\n",
       "614   2019-04-22\n",
       "615          NaT\n",
       "Name: Release Date, Length: 616, dtype: datetime64[ns]"
      ]
     },
     "execution_count": 128,
     "metadata": {},
     "output_type": "execute_result"
    }
   ],
   "source": [
    "pd.to_datetime(df['Release Date'])\n",
    "\n"
   ]
  },
  {
   "cell_type": "code",
   "execution_count": null,
   "metadata": {},
   "outputs": [],
   "source": []
  }
 ],
 "metadata": {
  "kernelspec": {
   "display_name": "MarcosPython10",
   "language": "python",
   "name": "python3"
  },
  "language_info": {
   "codemirror_mode": {
    "name": "ipython",
    "version": 3
   },
   "file_extension": ".py",
   "mimetype": "text/x-python",
   "name": "python",
   "nbconvert_exporter": "python",
   "pygments_lexer": "ipython3",
   "version": "3.10.18"
  }
 },
 "nbformat": 4,
 "nbformat_minor": 2
}
