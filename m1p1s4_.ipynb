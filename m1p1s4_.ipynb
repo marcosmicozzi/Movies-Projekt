{
 "cells": [
  {
   "cell_type": "code",
   "execution_count": 290,
   "metadata": {},
   "outputs": [],
   "source": [
    "import pandas as pd"
   ]
  },
  {
   "cell_type": "code",
   "execution_count": 291,
   "metadata": {},
   "outputs": [],
   "source": [
    "csv = pd.read_csv('movies_2.csv')\n",
    "csv.head()\n",
    "df = pd.DataFrame(csv)"
   ]
  },
  {
   "cell_type": "code",
   "execution_count": 292,
   "metadata": {},
   "outputs": [
    {
     "data": {
      "text/plain": [
       "(616, 11)"
      ]
     },
     "execution_count": 292,
     "metadata": {},
     "output_type": "execute_result"
    }
   ],
   "source": [
    "df.shape"
   ]
  },
  {
   "cell_type": "code",
   "execution_count": 293,
   "metadata": {},
   "outputs": [
    {
     "data": {
      "text/plain": [
       "<bound method DataFrame.info of      MovieID                                  Title MPAA Rating       Budget  \\\n",
       "0          1                     Look Who's Talking       PG-13    7500000.0   \n",
       "1          2                     Driving Miss Daisy          PG    7500000.0   \n",
       "2          3                         Turner & Hooch          PG   13000000.0   \n",
       "3          4             Born on the Fourth of July           R   14000000.0   \n",
       "4          5                        Field of Dreams          PG   15000000.0   \n",
       "..       ...                                    ...         ...          ...   \n",
       "611      612                            Toy Story 4           G  200000000.0   \n",
       "612      613  Fast & Furious Presents: Hobbs & Shaw       PG-13  200000000.0   \n",
       "613      614                          The Lion King          PG  250000000.0   \n",
       "614      615                      Avengers: Endgame       PG-13  356000000.0   \n",
       "615        0                                    NaN         NaN          NaN   \n",
       "\n",
       "            Gross Release Date      Genre  Runtime  Rating  Rating Count  \\\n",
       "0    2.960000e+08   1989-10-12    Romance     93.0     5.9       73638.0   \n",
       "1    1.457933e+08   1989-12-13     Comedy     99.0     7.4       91075.0   \n",
       "2    7.107992e+07   1989-07-28      Crime    100.0     7.2       91415.0   \n",
       "3    1.610017e+08   1989-12-20        War    145.0     7.2       91415.0   \n",
       "4    8.443162e+07   1989-04-21      Drama    107.0     7.5      101702.0   \n",
       "..            ...          ...        ...      ...     ...           ...   \n",
       "611  1.062000e+09   2019-06-11  Animation    100.0     NaN           NaN   \n",
       "612  7.594000e+08   2019-07-13   Thriller    136.0     NaN           NaN   \n",
       "613  1.632000e+09   2019-07-09      Drama    118.0     NaN           NaN   \n",
       "614  2.796000e+09   2019-04-22     Action    181.0     NaN           NaN   \n",
       "615           NaN          NaN        NaN      NaN     NaN           NaN   \n",
       "\n",
       "                                               Summary  \n",
       "0    After a single, career-minded woman is left on...  \n",
       "1    An old Jewish woman and her African-American c...  \n",
       "2    Det. Scott Turner (Tom Hanks) is an uptight, b...  \n",
       "3    The biography of Ron Kovic. Paralyzed in the V...  \n",
       "4    An Iowa corn farmer, hearing voices, interpret...  \n",
       "..                                                 ...  \n",
       "611                                                NaN  \n",
       "612                                                NaN  \n",
       "613                                                NaN  \n",
       "614                                                NaN  \n",
       "615                                                NaN  \n",
       "\n",
       "[616 rows x 11 columns]>"
      ]
     },
     "execution_count": 293,
     "metadata": {},
     "output_type": "execute_result"
    }
   ],
   "source": [
    "df.info"
   ]
  },
  {
   "cell_type": "code",
   "execution_count": 294,
   "metadata": {},
   "outputs": [
    {
     "data": {
      "text/plain": [
       "MovieID           int64\n",
       "Title            object\n",
       "MPAA Rating      object\n",
       "Budget          float64\n",
       "Gross           float64\n",
       "Release Date     object\n",
       "Genre            object\n",
       "Runtime         float64\n",
       "Rating          float64\n",
       "Rating Count    float64\n",
       "Summary          object\n",
       "dtype: object"
      ]
     },
     "execution_count": 294,
     "metadata": {},
     "output_type": "execute_result"
    }
   ],
   "source": [
    "df.dtypes"
   ]
  },
  {
   "cell_type": "markdown",
   "metadata": {},
   "source": [
    "# Finding amount of Null Values "
   ]
  },
  {
   "cell_type": "code",
   "execution_count": 295,
   "metadata": {},
   "outputs": [
    {
     "data": {
      "text/plain": [
       "MovieID           0\n",
       "Title             1\n",
       "MPAA Rating       1\n",
       "Budget            1\n",
       "Gross             1\n",
       "Release Date      1\n",
       "Genre             1\n",
       "Runtime           1\n",
       "Rating          108\n",
       "Rating Count    108\n",
       "Summary         120\n",
       "dtype: int64"
      ]
     },
     "execution_count": 295,
     "metadata": {},
     "output_type": "execute_result"
    }
   ],
   "source": [
    "df.isnull().sum()"
   ]
  },
  {
   "cell_type": "markdown",
   "metadata": {},
   "source": [
    "# Drop Column"
   ]
  },
  {
   "cell_type": "code",
   "execution_count": 296,
   "metadata": {},
   "outputs": [],
   "source": [
    "# This was very important because I could only drop by converting to DataFrame. \n",
    "df = df.drop(columns='Summary')"
   ]
  },
  {
   "cell_type": "markdown",
   "metadata": {},
   "source": [
    "# Rename columns lowercase"
   ]
  },
  {
   "cell_type": "code",
   "execution_count": 297,
   "metadata": {},
   "outputs": [
    {
     "data": {
      "text/html": [
       "<div>\n",
       "<style scoped>\n",
       "    .dataframe tbody tr th:only-of-type {\n",
       "        vertical-align: middle;\n",
       "    }\n",
       "\n",
       "    .dataframe tbody tr th {\n",
       "        vertical-align: top;\n",
       "    }\n",
       "\n",
       "    .dataframe thead th {\n",
       "        text-align: right;\n",
       "    }\n",
       "</style>\n",
       "<table border=\"1\" class=\"dataframe\">\n",
       "  <thead>\n",
       "    <tr style=\"text-align: right;\">\n",
       "      <th></th>\n",
       "      <th>movie_id</th>\n",
       "      <th>title</th>\n",
       "      <th>mpaa_rating</th>\n",
       "      <th>budget</th>\n",
       "      <th>gross</th>\n",
       "      <th>release_date</th>\n",
       "      <th>genre</th>\n",
       "      <th>runtime</th>\n",
       "      <th>rating</th>\n",
       "      <th>rating_count</th>\n",
       "    </tr>\n",
       "  </thead>\n",
       "  <tbody>\n",
       "    <tr>\n",
       "      <th>0</th>\n",
       "      <td>1</td>\n",
       "      <td>Look Who's Talking</td>\n",
       "      <td>PG-13</td>\n",
       "      <td>7500000.0</td>\n",
       "      <td>2.960000e+08</td>\n",
       "      <td>1989-10-12</td>\n",
       "      <td>Romance</td>\n",
       "      <td>93.0</td>\n",
       "      <td>5.9</td>\n",
       "      <td>73638.0</td>\n",
       "    </tr>\n",
       "    <tr>\n",
       "      <th>1</th>\n",
       "      <td>2</td>\n",
       "      <td>Driving Miss Daisy</td>\n",
       "      <td>PG</td>\n",
       "      <td>7500000.0</td>\n",
       "      <td>1.457933e+08</td>\n",
       "      <td>1989-12-13</td>\n",
       "      <td>Comedy</td>\n",
       "      <td>99.0</td>\n",
       "      <td>7.4</td>\n",
       "      <td>91075.0</td>\n",
       "    </tr>\n",
       "    <tr>\n",
       "      <th>2</th>\n",
       "      <td>3</td>\n",
       "      <td>Turner &amp; Hooch</td>\n",
       "      <td>PG</td>\n",
       "      <td>13000000.0</td>\n",
       "      <td>7.107992e+07</td>\n",
       "      <td>1989-07-28</td>\n",
       "      <td>Crime</td>\n",
       "      <td>100.0</td>\n",
       "      <td>7.2</td>\n",
       "      <td>91415.0</td>\n",
       "    </tr>\n",
       "    <tr>\n",
       "      <th>3</th>\n",
       "      <td>4</td>\n",
       "      <td>Born on the Fourth of July</td>\n",
       "      <td>R</td>\n",
       "      <td>14000000.0</td>\n",
       "      <td>1.610017e+08</td>\n",
       "      <td>1989-12-20</td>\n",
       "      <td>War</td>\n",
       "      <td>145.0</td>\n",
       "      <td>7.2</td>\n",
       "      <td>91415.0</td>\n",
       "    </tr>\n",
       "    <tr>\n",
       "      <th>4</th>\n",
       "      <td>5</td>\n",
       "      <td>Field of Dreams</td>\n",
       "      <td>PG</td>\n",
       "      <td>15000000.0</td>\n",
       "      <td>8.443162e+07</td>\n",
       "      <td>1989-04-21</td>\n",
       "      <td>Drama</td>\n",
       "      <td>107.0</td>\n",
       "      <td>7.5</td>\n",
       "      <td>101702.0</td>\n",
       "    </tr>\n",
       "    <tr>\n",
       "      <th>...</th>\n",
       "      <td>...</td>\n",
       "      <td>...</td>\n",
       "      <td>...</td>\n",
       "      <td>...</td>\n",
       "      <td>...</td>\n",
       "      <td>...</td>\n",
       "      <td>...</td>\n",
       "      <td>...</td>\n",
       "      <td>...</td>\n",
       "      <td>...</td>\n",
       "    </tr>\n",
       "    <tr>\n",
       "      <th>611</th>\n",
       "      <td>612</td>\n",
       "      <td>Toy Story 4</td>\n",
       "      <td>G</td>\n",
       "      <td>200000000.0</td>\n",
       "      <td>1.062000e+09</td>\n",
       "      <td>2019-06-11</td>\n",
       "      <td>Animation</td>\n",
       "      <td>100.0</td>\n",
       "      <td>NaN</td>\n",
       "      <td>NaN</td>\n",
       "    </tr>\n",
       "    <tr>\n",
       "      <th>612</th>\n",
       "      <td>613</td>\n",
       "      <td>Fast &amp; Furious Presents: Hobbs &amp; Shaw</td>\n",
       "      <td>PG-13</td>\n",
       "      <td>200000000.0</td>\n",
       "      <td>7.594000e+08</td>\n",
       "      <td>2019-07-13</td>\n",
       "      <td>Thriller</td>\n",
       "      <td>136.0</td>\n",
       "      <td>NaN</td>\n",
       "      <td>NaN</td>\n",
       "    </tr>\n",
       "    <tr>\n",
       "      <th>613</th>\n",
       "      <td>614</td>\n",
       "      <td>The Lion King</td>\n",
       "      <td>PG</td>\n",
       "      <td>250000000.0</td>\n",
       "      <td>1.632000e+09</td>\n",
       "      <td>2019-07-09</td>\n",
       "      <td>Drama</td>\n",
       "      <td>118.0</td>\n",
       "      <td>NaN</td>\n",
       "      <td>NaN</td>\n",
       "    </tr>\n",
       "    <tr>\n",
       "      <th>614</th>\n",
       "      <td>615</td>\n",
       "      <td>Avengers: Endgame</td>\n",
       "      <td>PG-13</td>\n",
       "      <td>356000000.0</td>\n",
       "      <td>2.796000e+09</td>\n",
       "      <td>2019-04-22</td>\n",
       "      <td>Action</td>\n",
       "      <td>181.0</td>\n",
       "      <td>NaN</td>\n",
       "      <td>NaN</td>\n",
       "    </tr>\n",
       "    <tr>\n",
       "      <th>615</th>\n",
       "      <td>0</td>\n",
       "      <td>NaN</td>\n",
       "      <td>NaN</td>\n",
       "      <td>NaN</td>\n",
       "      <td>NaN</td>\n",
       "      <td>NaN</td>\n",
       "      <td>NaN</td>\n",
       "      <td>NaN</td>\n",
       "      <td>NaN</td>\n",
       "      <td>NaN</td>\n",
       "    </tr>\n",
       "  </tbody>\n",
       "</table>\n",
       "<p>616 rows × 10 columns</p>\n",
       "</div>"
      ],
      "text/plain": [
       "     movie_id                                  title mpaa_rating       budget  \\\n",
       "0           1                     Look Who's Talking       PG-13    7500000.0   \n",
       "1           2                     Driving Miss Daisy          PG    7500000.0   \n",
       "2           3                         Turner & Hooch          PG   13000000.0   \n",
       "3           4             Born on the Fourth of July           R   14000000.0   \n",
       "4           5                        Field of Dreams          PG   15000000.0   \n",
       "..        ...                                    ...         ...          ...   \n",
       "611       612                            Toy Story 4           G  200000000.0   \n",
       "612       613  Fast & Furious Presents: Hobbs & Shaw       PG-13  200000000.0   \n",
       "613       614                          The Lion King          PG  250000000.0   \n",
       "614       615                      Avengers: Endgame       PG-13  356000000.0   \n",
       "615         0                                    NaN         NaN          NaN   \n",
       "\n",
       "            gross release_date      genre  runtime  rating  rating_count  \n",
       "0    2.960000e+08   1989-10-12    Romance     93.0     5.9       73638.0  \n",
       "1    1.457933e+08   1989-12-13     Comedy     99.0     7.4       91075.0  \n",
       "2    7.107992e+07   1989-07-28      Crime    100.0     7.2       91415.0  \n",
       "3    1.610017e+08   1989-12-20        War    145.0     7.2       91415.0  \n",
       "4    8.443162e+07   1989-04-21      Drama    107.0     7.5      101702.0  \n",
       "..            ...          ...        ...      ...     ...           ...  \n",
       "611  1.062000e+09   2019-06-11  Animation    100.0     NaN           NaN  \n",
       "612  7.594000e+08   2019-07-13   Thriller    136.0     NaN           NaN  \n",
       "613  1.632000e+09   2019-07-09      Drama    118.0     NaN           NaN  \n",
       "614  2.796000e+09   2019-04-22     Action    181.0     NaN           NaN  \n",
       "615           NaN          NaN        NaN      NaN     NaN           NaN  \n",
       "\n",
       "[616 rows x 10 columns]"
      ]
     },
     "execution_count": 297,
     "metadata": {},
     "output_type": "execute_result"
    }
   ],
   "source": [
    "df = df.rename(str.lower, axis=1)\n",
    "df = df.rename(columns={'movieid':'movie_id', 'mpaa rating':'mpaa_rating', 'release date':'release_date', 'rating count':'rating_count'})\n",
    "df"
   ]
  },
  {
   "cell_type": "markdown",
   "metadata": {},
   "source": [
    "# Finding Nan Values again"
   ]
  },
  {
   "cell_type": "code",
   "execution_count": 298,
   "metadata": {},
   "outputs": [
    {
     "name": "stdout",
     "output_type": "stream",
     "text": [
      "movie_id  title  mpaa_rating  budget  gross  release_date  genre  runtime  rating  rating_count\n",
      "False     False  False        False   False  False         False  False    False   False           508\n",
      "                                                                           True    True            107\n",
      "          True   True         True    True   True          True   True     True    True              1\n",
      "Name: count, dtype: int64\n"
     ]
    }
   ],
   "source": [
    "# This is confusing so better I used df.info()\n",
    "print(df.isna().value_counts())\n"
   ]
  },
  {
   "cell_type": "code",
   "execution_count": 299,
   "metadata": {},
   "outputs": [
    {
     "name": "stdout",
     "output_type": "stream",
     "text": [
      "<class 'pandas.core.frame.DataFrame'>\n",
      "RangeIndex: 616 entries, 0 to 615\n",
      "Data columns (total 10 columns):\n",
      " #   Column        Non-Null Count  Dtype  \n",
      "---  ------        --------------  -----  \n",
      " 0   movie_id      616 non-null    int64  \n",
      " 1   title         615 non-null    object \n",
      " 2   mpaa_rating   615 non-null    object \n",
      " 3   budget        615 non-null    float64\n",
      " 4   gross         615 non-null    float64\n",
      " 5   release_date  615 non-null    object \n",
      " 6   genre         615 non-null    object \n",
      " 7   runtime       615 non-null    float64\n",
      " 8   rating        508 non-null    float64\n",
      " 9   rating_count  508 non-null    float64\n",
      "dtypes: float64(5), int64(1), object(4)\n",
      "memory usage: 48.2+ KB\n"
     ]
    }
   ],
   "source": [
    "df.info()"
   ]
  },
  {
   "cell_type": "markdown",
   "metadata": {},
   "source": [
    "# Replacing Nan values in rating for median"
   ]
  },
  {
   "cell_type": "code",
   "execution_count": 300,
   "metadata": {},
   "outputs": [],
   "source": [
    "# When I used df = ... it would then not allow me to use df.info()\n",
    "df.fillna({'rating':df['rating'].median()}, inplace=True)"
   ]
  },
  {
   "cell_type": "code",
   "execution_count": 301,
   "metadata": {},
   "outputs": [
    {
     "name": "stdout",
     "output_type": "stream",
     "text": [
      "<class 'pandas.core.frame.DataFrame'>\n",
      "RangeIndex: 616 entries, 0 to 615\n",
      "Data columns (total 10 columns):\n",
      " #   Column        Non-Null Count  Dtype  \n",
      "---  ------        --------------  -----  \n",
      " 0   movie_id      616 non-null    int64  \n",
      " 1   title         615 non-null    object \n",
      " 2   mpaa_rating   615 non-null    object \n",
      " 3   budget        615 non-null    float64\n",
      " 4   gross         615 non-null    float64\n",
      " 5   release_date  615 non-null    object \n",
      " 6   genre         615 non-null    object \n",
      " 7   runtime       615 non-null    float64\n",
      " 8   rating        616 non-null    float64\n",
      " 9   rating_count  508 non-null    float64\n",
      "dtypes: float64(5), int64(1), object(4)\n",
      "memory usage: 48.2+ KB\n"
     ]
    }
   ],
   "source": [
    "df.info()"
   ]
  },
  {
   "cell_type": "markdown",
   "metadata": {},
   "source": [
    "# Replacing Nan values in rating_count for median"
   ]
  },
  {
   "cell_type": "code",
   "execution_count": 302,
   "metadata": {},
   "outputs": [],
   "source": [
    "df.fillna({'rating_count':df['rating_count'].median()}, inplace=True)"
   ]
  },
  {
   "cell_type": "code",
   "execution_count": 303,
   "metadata": {},
   "outputs": [
    {
     "name": "stdout",
     "output_type": "stream",
     "text": [
      "<class 'pandas.core.frame.DataFrame'>\n",
      "RangeIndex: 616 entries, 0 to 615\n",
      "Data columns (total 10 columns):\n",
      " #   Column        Non-Null Count  Dtype  \n",
      "---  ------        --------------  -----  \n",
      " 0   movie_id      616 non-null    int64  \n",
      " 1   title         615 non-null    object \n",
      " 2   mpaa_rating   615 non-null    object \n",
      " 3   budget        615 non-null    float64\n",
      " 4   gross         615 non-null    float64\n",
      " 5   release_date  615 non-null    object \n",
      " 6   genre         615 non-null    object \n",
      " 7   runtime       615 non-null    float64\n",
      " 8   rating        616 non-null    float64\n",
      " 9   rating_count  616 non-null    float64\n",
      "dtypes: float64(5), int64(1), object(4)\n",
      "memory usage: 48.2+ KB\n"
     ]
    }
   ],
   "source": [
    "df.info()"
   ]
  },
  {
   "cell_type": "markdown",
   "metadata": {},
   "source": [
    "# I still have 1 Nan on almost each category, sometimes even on genre, whcih means I cannot create a math equation\n",
    "# like .mean(), so I will now drop those values. "
   ]
  },
  {
   "cell_type": "code",
   "execution_count": 304,
   "metadata": {},
   "outputs": [],
   "source": [
    "# when to use df = ... and when not to?\n",
    "\n",
    "df = df.dropna()"
   ]
  },
  {
   "cell_type": "code",
   "execution_count": 305,
   "metadata": {},
   "outputs": [
    {
     "name": "stdout",
     "output_type": "stream",
     "text": [
      "<class 'pandas.core.frame.DataFrame'>\n",
      "Index: 615 entries, 0 to 614\n",
      "Data columns (total 10 columns):\n",
      " #   Column        Non-Null Count  Dtype  \n",
      "---  ------        --------------  -----  \n",
      " 0   movie_id      615 non-null    int64  \n",
      " 1   title         615 non-null    object \n",
      " 2   mpaa_rating   615 non-null    object \n",
      " 3   budget        615 non-null    float64\n",
      " 4   gross         615 non-null    float64\n",
      " 5   release_date  615 non-null    object \n",
      " 6   genre         615 non-null    object \n",
      " 7   runtime       615 non-null    float64\n",
      " 8   rating        615 non-null    float64\n",
      " 9   rating_count  615 non-null    float64\n",
      "dtypes: float64(5), int64(1), object(4)\n",
      "memory usage: 52.9+ KB\n"
     ]
    }
   ],
   "source": [
    "df.info()"
   ]
  },
  {
   "cell_type": "markdown",
   "metadata": {},
   "source": [
    "# Turning Float into int"
   ]
  },
  {
   "cell_type": "code",
   "execution_count": 306,
   "metadata": {},
   "outputs": [
    {
     "name": "stdout",
     "output_type": "stream",
     "text": [
      "0        7500000.0\n",
      "1        7500000.0\n",
      "2       13000000.0\n",
      "3       14000000.0\n",
      "4       15000000.0\n",
      "          ...     \n",
      "610    200000000.0\n",
      "611    200000000.0\n",
      "612    200000000.0\n",
      "613    250000000.0\n",
      "614    356000000.0\n",
      "Name: budget, Length: 615, dtype: float64\n"
     ]
    },
    {
     "name": "stderr",
     "output_type": "stream",
     "text": [
      "/var/folders/pm/7vn7thz14p556cr_ql9w5xbw0000gn/T/ipykernel_55405/2655150809.py:4: SettingWithCopyWarning: \n",
      "A value is trying to be set on a copy of a slice from a DataFrame.\n",
      "Try using .loc[row_indexer,col_indexer] = value instead\n",
      "\n",
      "See the caveats in the documentation: https://pandas.pydata.org/pandas-docs/stable/user_guide/indexing.html#returning-a-view-versus-a-copy\n",
      "  df['budget'] = df['budget'].astype(int)\n"
     ]
    }
   ],
   "source": [
    "print(df['budget'])\n",
    "\n",
    "# I had to do df budget = df... \n",
    "df['budget'] = df['budget'].astype(int)\n"
   ]
  },
  {
   "cell_type": "code",
   "execution_count": 307,
   "metadata": {},
   "outputs": [
    {
     "data": {
      "text/plain": [
       "0        7500000\n",
       "1        7500000\n",
       "2       13000000\n",
       "3       14000000\n",
       "4       15000000\n",
       "         ...    \n",
       "610    200000000\n",
       "611    200000000\n",
       "612    200000000\n",
       "613    250000000\n",
       "614    356000000\n",
       "Name: budget, Length: 615, dtype: int64"
      ]
     },
     "execution_count": 307,
     "metadata": {},
     "output_type": "execute_result"
    }
   ],
   "source": [
    "df['budget']"
   ]
  },
  {
   "cell_type": "code",
   "execution_count": 308,
   "metadata": {},
   "outputs": [
    {
     "name": "stderr",
     "output_type": "stream",
     "text": [
      "/var/folders/pm/7vn7thz14p556cr_ql9w5xbw0000gn/T/ipykernel_55405/4243391415.py:1: SettingWithCopyWarning: \n",
      "A value is trying to be set on a copy of a slice from a DataFrame.\n",
      "Try using .loc[row_indexer,col_indexer] = value instead\n",
      "\n",
      "See the caveats in the documentation: https://pandas.pydata.org/pandas-docs/stable/user_guide/indexing.html#returning-a-view-versus-a-copy\n",
      "  df['gross'] = df['gross'].astype(int)\n"
     ]
    }
   ],
   "source": [
    "df['gross'] = df['gross'].astype(int)\n"
   ]
  },
  {
   "cell_type": "code",
   "execution_count": 309,
   "metadata": {},
   "outputs": [
    {
     "data": {
      "text/plain": [
       "0       296000000\n",
       "1       145793296\n",
       "2        71079915\n",
       "3       161001698\n",
       "4        84431625\n",
       "          ...    \n",
       "610     385900000\n",
       "611    1062000000\n",
       "612     759400000\n",
       "613    1632000000\n",
       "614    2796000000\n",
       "Name: gross, Length: 615, dtype: int64"
      ]
     },
     "execution_count": 309,
     "metadata": {},
     "output_type": "execute_result"
    }
   ],
   "source": [
    "df['gross']"
   ]
  },
  {
   "cell_type": "markdown",
   "metadata": {},
   "source": [
    "# Setting Datetime"
   ]
  },
  {
   "cell_type": "code",
   "execution_count": 310,
   "metadata": {},
   "outputs": [
    {
     "name": "stderr",
     "output_type": "stream",
     "text": [
      "/var/folders/pm/7vn7thz14p556cr_ql9w5xbw0000gn/T/ipykernel_55405/1525507706.py:1: SettingWithCopyWarning: \n",
      "A value is trying to be set on a copy of a slice from a DataFrame.\n",
      "Try using .loc[row_indexer,col_indexer] = value instead\n",
      "\n",
      "See the caveats in the documentation: https://pandas.pydata.org/pandas-docs/stable/user_guide/indexing.html#returning-a-view-versus-a-copy\n",
      "  df['release_date'] = pd.to_datetime(df['release_date'])\n"
     ]
    }
   ],
   "source": [
    "df['release_date'] = pd.to_datetime(df['release_date'])"
   ]
  },
  {
   "cell_type": "code",
   "execution_count": 311,
   "metadata": {},
   "outputs": [
    {
     "data": {
      "text/plain": [
       "0     1989-10-12\n",
       "1     1989-12-13\n",
       "2     1989-07-28\n",
       "3     1989-12-20\n",
       "4     1989-04-21\n",
       "         ...    \n",
       "610   2019-05-13\n",
       "611   2019-06-11\n",
       "612   2019-07-13\n",
       "613   2019-07-09\n",
       "614   2019-04-22\n",
       "Name: release_date, Length: 615, dtype: datetime64[ns]"
      ]
     },
     "execution_count": 311,
     "metadata": {},
     "output_type": "execute_result"
    }
   ],
   "source": [
    "df['release_date']"
   ]
  },
  {
   "cell_type": "markdown",
   "metadata": {},
   "source": [
    "# Finding Outliers"
   ]
  },
  {
   "cell_type": "code",
   "execution_count": 312,
   "metadata": {},
   "outputs": [
    {
     "name": "stdout",
     "output_type": "stream",
     "text": [
      "The total amopunt of possible outliers in budget values is: 6\n",
      "The total amopunt of possible outliers in gross values is: 22\n"
     ]
    }
   ],
   "source": [
    "# (data < (Q1 - 1.5 * IQR)) | (data > (Q3 + 1.5 * IQR))\n",
    "\n",
    "outliers_budget = (df['budget'] < (df['budget'].quantile(0.25) - 1.5 * (df['budget'].quantile(0.75) - df['budget'].quantile(0.25)))) | (df['budget'] > (df['budget'].quantile(0.75) + 1.5 * (df['budget'].quantile(0.75) - df['budget'].quantile(0.25))))\n",
    "print(f'The total amopunt of possible outliers in budget values is: {outliers_budget.sum()}')\n",
    "\n",
    "outliers_gross = (df['gross'] < (df['gross'].quantile(0.25) - 1.5 * (df['gross'].quantile(0.75) - df['gross'].quantile(0.25)))) | (df['gross'] > (df['gross'].quantile(0.75) + 1.5 * (df['gross'].quantile(0.75) - df['gross'].quantile(0.25))))\n",
    "print(f'The total amopunt of possible outliers in gross values is: {outliers_gross.sum()}')\n",
    "\n",
    "\n"
   ]
  },
  {
   "cell_type": "markdown",
   "metadata": {},
   "source": [
    "# Show the movies with more than 7 in Rating & greater than 50 million Gross\n",
    "\n"
   ]
  },
  {
   "cell_type": "code",
   "execution_count": 313,
   "metadata": {},
   "outputs": [
    {
     "name": "stdout",
     "output_type": "stream",
     "text": [
      "                                   title  rating      gross\n",
      "1                     Driving Miss Daisy     7.4  145793296\n",
      "2                         Turner & Hooch     7.2   71079915\n",
      "3             Born on the Fourth of July     7.2  161001698\n",
      "4                        Field of Dreams     7.5   84431625\n",
      "6                When Harry Met Sally...     7.6   92800000\n",
      "..                                   ...     ...        ...\n",
      "505                           Big Hero 6     7.8  652105443\n",
      "506                         Interstellar     8.6  675120017\n",
      "507  Captain America: The Winter Soldier     7.7  714766572\n",
      "508       Dawn of the Planet of the Apes     7.6  710644566\n",
      "509              Guardians of the Galaxy     8.0  773328629\n",
      "\n",
      "[224 rows x 3 columns]\n",
      "-----\n"
     ]
    },
    {
     "data": {
      "text/plain": [
       "movie_id        224\n",
       "title           224\n",
       "mpaa_rating     224\n",
       "budget          224\n",
       "gross           224\n",
       "release_date    224\n",
       "genre           224\n",
       "runtime         224\n",
       "rating          224\n",
       "rating_count    224\n",
       "dtype: int64"
      ]
     },
     "execution_count": 313,
     "metadata": {},
     "output_type": "execute_result"
    }
   ],
   "source": [
    "ratingandgross = df[(df['rating'] > 7) & (df['gross'] > 50000000.0)]\n",
    "print(ratingandgross[['title', 'rating', 'gross']])\n",
    "print('-----')\n",
    "ratingandgross.count()"
   ]
  },
  {
   "cell_type": "code",
   "execution_count": 314,
   "metadata": {},
   "outputs": [
    {
     "data": {
      "text/html": [
       "<div>\n",
       "<style scoped>\n",
       "    .dataframe tbody tr th:only-of-type {\n",
       "        vertical-align: middle;\n",
       "    }\n",
       "\n",
       "    .dataframe tbody tr th {\n",
       "        vertical-align: top;\n",
       "    }\n",
       "\n",
       "    .dataframe thead th {\n",
       "        text-align: right;\n",
       "    }\n",
       "</style>\n",
       "<table border=\"1\" class=\"dataframe\">\n",
       "  <thead>\n",
       "    <tr style=\"text-align: right;\">\n",
       "      <th></th>\n",
       "      <th>movie_id</th>\n",
       "      <th>title</th>\n",
       "      <th>mpaa_rating</th>\n",
       "      <th>budget</th>\n",
       "      <th>gross</th>\n",
       "      <th>release_date</th>\n",
       "      <th>genre</th>\n",
       "      <th>runtime</th>\n",
       "      <th>rating</th>\n",
       "      <th>rating_count</th>\n",
       "    </tr>\n",
       "  </thead>\n",
       "  <tbody>\n",
       "    <tr>\n",
       "      <th>0</th>\n",
       "      <td>1</td>\n",
       "      <td>Look Who's Talking</td>\n",
       "      <td>PG-13</td>\n",
       "      <td>7500000</td>\n",
       "      <td>296000000</td>\n",
       "      <td>1989-10-12</td>\n",
       "      <td>Romance</td>\n",
       "      <td>93.0</td>\n",
       "      <td>5.9</td>\n",
       "      <td>73638.0</td>\n",
       "    </tr>\n",
       "    <tr>\n",
       "      <th>1</th>\n",
       "      <td>2</td>\n",
       "      <td>Driving Miss Daisy</td>\n",
       "      <td>PG</td>\n",
       "      <td>7500000</td>\n",
       "      <td>145793296</td>\n",
       "      <td>1989-12-13</td>\n",
       "      <td>Comedy</td>\n",
       "      <td>99.0</td>\n",
       "      <td>7.4</td>\n",
       "      <td>91075.0</td>\n",
       "    </tr>\n",
       "    <tr>\n",
       "      <th>2</th>\n",
       "      <td>3</td>\n",
       "      <td>Turner &amp; Hooch</td>\n",
       "      <td>PG</td>\n",
       "      <td>13000000</td>\n",
       "      <td>71079915</td>\n",
       "      <td>1989-07-28</td>\n",
       "      <td>Crime</td>\n",
       "      <td>100.0</td>\n",
       "      <td>7.2</td>\n",
       "      <td>91415.0</td>\n",
       "    </tr>\n",
       "    <tr>\n",
       "      <th>3</th>\n",
       "      <td>4</td>\n",
       "      <td>Born on the Fourth of July</td>\n",
       "      <td>R</td>\n",
       "      <td>14000000</td>\n",
       "      <td>161001698</td>\n",
       "      <td>1989-12-20</td>\n",
       "      <td>War</td>\n",
       "      <td>145.0</td>\n",
       "      <td>7.2</td>\n",
       "      <td>91415.0</td>\n",
       "    </tr>\n",
       "    <tr>\n",
       "      <th>4</th>\n",
       "      <td>5</td>\n",
       "      <td>Field of Dreams</td>\n",
       "      <td>PG</td>\n",
       "      <td>15000000</td>\n",
       "      <td>84431625</td>\n",
       "      <td>1989-04-21</td>\n",
       "      <td>Drama</td>\n",
       "      <td>107.0</td>\n",
       "      <td>7.5</td>\n",
       "      <td>101702.0</td>\n",
       "    </tr>\n",
       "    <tr>\n",
       "      <th>...</th>\n",
       "      <td>...</td>\n",
       "      <td>...</td>\n",
       "      <td>...</td>\n",
       "      <td>...</td>\n",
       "      <td>...</td>\n",
       "      <td>...</td>\n",
       "      <td>...</td>\n",
       "      <td>...</td>\n",
       "      <td>...</td>\n",
       "      <td>...</td>\n",
       "    </tr>\n",
       "    <tr>\n",
       "      <th>610</th>\n",
       "      <td>611</td>\n",
       "      <td>Godzilla: King of the Monsters</td>\n",
       "      <td>PG-13</td>\n",
       "      <td>200000000</td>\n",
       "      <td>385900000</td>\n",
       "      <td>2019-05-13</td>\n",
       "      <td>Adventure</td>\n",
       "      <td>132.0</td>\n",
       "      <td>6.9</td>\n",
       "      <td>240347.5</td>\n",
       "    </tr>\n",
       "    <tr>\n",
       "      <th>611</th>\n",
       "      <td>612</td>\n",
       "      <td>Toy Story 4</td>\n",
       "      <td>G</td>\n",
       "      <td>200000000</td>\n",
       "      <td>1062000000</td>\n",
       "      <td>2019-06-11</td>\n",
       "      <td>Animation</td>\n",
       "      <td>100.0</td>\n",
       "      <td>6.9</td>\n",
       "      <td>240347.5</td>\n",
       "    </tr>\n",
       "    <tr>\n",
       "      <th>612</th>\n",
       "      <td>613</td>\n",
       "      <td>Fast &amp; Furious Presents: Hobbs &amp; Shaw</td>\n",
       "      <td>PG-13</td>\n",
       "      <td>200000000</td>\n",
       "      <td>759400000</td>\n",
       "      <td>2019-07-13</td>\n",
       "      <td>Thriller</td>\n",
       "      <td>136.0</td>\n",
       "      <td>6.9</td>\n",
       "      <td>240347.5</td>\n",
       "    </tr>\n",
       "    <tr>\n",
       "      <th>613</th>\n",
       "      <td>614</td>\n",
       "      <td>The Lion King</td>\n",
       "      <td>PG</td>\n",
       "      <td>250000000</td>\n",
       "      <td>1632000000</td>\n",
       "      <td>2019-07-09</td>\n",
       "      <td>Drama</td>\n",
       "      <td>118.0</td>\n",
       "      <td>6.9</td>\n",
       "      <td>240347.5</td>\n",
       "    </tr>\n",
       "    <tr>\n",
       "      <th>614</th>\n",
       "      <td>615</td>\n",
       "      <td>Avengers: Endgame</td>\n",
       "      <td>PG-13</td>\n",
       "      <td>356000000</td>\n",
       "      <td>2796000000</td>\n",
       "      <td>2019-04-22</td>\n",
       "      <td>Action</td>\n",
       "      <td>181.0</td>\n",
       "      <td>6.9</td>\n",
       "      <td>240347.5</td>\n",
       "    </tr>\n",
       "  </tbody>\n",
       "</table>\n",
       "<p>615 rows × 10 columns</p>\n",
       "</div>"
      ],
      "text/plain": [
       "     movie_id                                  title mpaa_rating     budget  \\\n",
       "0           1                     Look Who's Talking       PG-13    7500000   \n",
       "1           2                     Driving Miss Daisy          PG    7500000   \n",
       "2           3                         Turner & Hooch          PG   13000000   \n",
       "3           4             Born on the Fourth of July           R   14000000   \n",
       "4           5                        Field of Dreams          PG   15000000   \n",
       "..        ...                                    ...         ...        ...   \n",
       "610       611         Godzilla: King of the Monsters       PG-13  200000000   \n",
       "611       612                            Toy Story 4           G  200000000   \n",
       "612       613  Fast & Furious Presents: Hobbs & Shaw       PG-13  200000000   \n",
       "613       614                          The Lion King          PG  250000000   \n",
       "614       615                      Avengers: Endgame       PG-13  356000000   \n",
       "\n",
       "          gross release_date      genre  runtime  rating  rating_count  \n",
       "0     296000000   1989-10-12    Romance     93.0     5.9       73638.0  \n",
       "1     145793296   1989-12-13     Comedy     99.0     7.4       91075.0  \n",
       "2      71079915   1989-07-28      Crime    100.0     7.2       91415.0  \n",
       "3     161001698   1989-12-20        War    145.0     7.2       91415.0  \n",
       "4      84431625   1989-04-21      Drama    107.0     7.5      101702.0  \n",
       "..          ...          ...        ...      ...     ...           ...  \n",
       "610   385900000   2019-05-13  Adventure    132.0     6.9      240347.5  \n",
       "611  1062000000   2019-06-11  Animation    100.0     6.9      240347.5  \n",
       "612   759400000   2019-07-13   Thriller    136.0     6.9      240347.5  \n",
       "613  1632000000   2019-07-09      Drama    118.0     6.9      240347.5  \n",
       "614  2796000000   2019-04-22     Action    181.0     6.9      240347.5  \n",
       "\n",
       "[615 rows x 10 columns]"
      ]
     },
     "execution_count": 314,
     "metadata": {},
     "output_type": "execute_result"
    }
   ],
   "source": [
    "df.drop_duplicates()"
   ]
  },
  {
   "cell_type": "markdown",
   "metadata": {},
   "source": [
    "# Show the movies with more than 7 in Rating & greater than 50 million Gross & MPAA Rating as PG\n",
    "\n"
   ]
  },
  {
   "cell_type": "code",
   "execution_count": 315,
   "metadata": {},
   "outputs": [
    {
     "name": "stdout",
     "output_type": "stream",
     "text": [
      "                                        title  rating       gross mpaa_rating\n",
      "1                          Driving Miss Daisy     7.4   145793296          PG\n",
      "2                              Turner & Hooch     7.2    71079915          PG\n",
      "4                             Field of Dreams     7.5    84431625          PG\n",
      "7                          Dead Poets Society     8.1   235860116          PG\n",
      "13                                     Batman     7.5   411348924          PG\n",
      "15                         The Little Mermaid     7.6   222300000          PG\n",
      "16                 Back to the Future Part II     7.8   332000000          PG\n",
      "19                            Steel Magnolias     7.3    95904091          PG\n",
      "24                                 Home Alone     7.6   476684675          PG\n",
      "32                   The Hunt for Red October     7.6   199200000          PG\n",
      "34                Back to the Future Part III     7.4   244527583          PG\n",
      "45            Teenage Mutant Ninja Turtles II     8.0    78600000          PG\n",
      "46                       Beauty and the Beast     8.0   377350553          PG\n",
      "49     Star Trek VI: The Undiscovered Country     7.2    96900000          PG\n",
      "72                      A League of Their Own     7.2   107458785          PG\n",
      "80                              Groundhog Day     8.0    70906973          PG\n",
      "106                    Star Trek: Generations     8.5   120000000          PG\n",
      "126                        Mr. Holland's Opus     7.3   106269971          PG\n",
      "130                                 Apollo 13     7.6   355237933          PG\n",
      "174                                   Contact     7.4   171120329          PG\n",
      "185                           The Truman Show     8.1   264118201          PG\n",
      "188                       The Prince of Egypt     7.1   218613188          PG\n",
      "215                                    Tarzan     7.3   448000000          PG\n",
      "220                       Remember the Titans     7.8   136706683          PG\n",
      "241                                     Shrek     7.8   484409218          PG\n",
      "255     Harry Potter and the Sorcerer's Stone     7.6   975100000          PG\n",
      "261                                   Ice Age     7.5   383257136          PG\n",
      "270   Harry Potter and the Chamber of Secrets     7.4   876688482          PG\n",
      "304                           The Incredibles     8.0   631442092          PG\n",
      "309  Harry Potter and the Prisoner of Azkaban     7.9   789804554          PG\n",
      "311                                   Shrek 2     7.2   919838758          PG\n",
      "385                             Kung Fu Panda     7.5   631744560          PG\n",
      "410                        Monsters vs Aliens     7.7   381509870          PG\n",
      "411                                        Up     8.2   735099082          PG\n",
      "415    Harry Potter and the Half-Blood Prince     7.6   933959197          PG\n",
      "420                             Despicable Me     7.6   543513985          PG\n",
      "425                                  Megamind     7.2   321887208          PG\n",
      "428                  How to Train Your Dragon     8.1   494878759          PG\n",
      "435                                   Tangled     7.7   591794936          PG\n",
      "447          Puss in Boots: The Three Diablos     7.8   555000000          PG\n",
      "451                           Kung Fu Panda 2     7.2   665692281          PG\n",
      "461                        Hotel Transylvania     7.1   358375603          PG\n",
      "466                            Wreck-It Ralph     7.7   471222889          PG\n",
      "468                                     Brave     7.1   538983207          PG\n",
      "480                           Despicable Me 2     7.4   970761885          PG\n",
      "484                                The Croods     7.2   585178928          PG\n",
      "485                                    Frozen     7.5  1274219009          PG\n",
      "498                            The Lego Movie     7.8   469160692          PG\n",
      "503                How to Train Your Dragon 2     7.8   609123048          PG\n",
      "505                                Big Hero 6     7.8   652105443          PG\n",
      "-----\n",
      "movie_id        50\n",
      "title           50\n",
      "mpaa_rating     50\n",
      "budget          50\n",
      "gross           50\n",
      "release_date    50\n",
      "genre           50\n",
      "runtime         50\n",
      "rating          50\n",
      "rating_count    50\n",
      "dtype: int64\n"
     ]
    }
   ],
   "source": [
    "ratingandgrossandMPAA = df[(df['rating'] > 7) & (df['gross'] > 50000000.0) & (df['mpaa_rating'] == 'PG')]\n",
    "print(ratingandgrossandMPAA[['title', 'rating', 'gross', 'mpaa_rating']])\n",
    "print('-----')\n",
    "print(ratingandgrossandMPAA.count())"
   ]
  },
  {
   "cell_type": "markdown",
   "metadata": {},
   "source": [
    "# Show the count of Animation movies with more than 7 in Rating (use the shape() method)\n",
    "\n"
   ]
  },
  {
   "cell_type": "code",
   "execution_count": 316,
   "metadata": {},
   "outputs": [
    {
     "data": {
      "text/plain": [
       "movie_id        39\n",
       "title           39\n",
       "mpaa_rating     39\n",
       "budget          39\n",
       "gross           39\n",
       "release_date    39\n",
       "genre           39\n",
       "runtime         39\n",
       "rating          39\n",
       "rating_count    39\n",
       "dtype: int64"
      ]
     },
     "execution_count": 316,
     "metadata": {},
     "output_type": "execute_result"
    }
   ],
   "source": [
    "df[((df['genre'] == 'Animation') & (df['rating'] > 7))].count()\n"
   ]
  },
  {
   "cell_type": "markdown",
   "metadata": {},
   "source": [
    "# Show the top 5 movies based on Budget"
   ]
  },
  {
   "cell_type": "code",
   "execution_count": 317,
   "metadata": {},
   "outputs": [
    {
     "data": {
      "text/html": [
       "<div>\n",
       "<style scoped>\n",
       "    .dataframe tbody tr th:only-of-type {\n",
       "        vertical-align: middle;\n",
       "    }\n",
       "\n",
       "    .dataframe tbody tr th {\n",
       "        vertical-align: top;\n",
       "    }\n",
       "\n",
       "    .dataframe thead th {\n",
       "        text-align: right;\n",
       "    }\n",
       "</style>\n",
       "<table border=\"1\" class=\"dataframe\">\n",
       "  <thead>\n",
       "    <tr style=\"text-align: right;\">\n",
       "      <th></th>\n",
       "      <th>movie_id</th>\n",
       "      <th>title</th>\n",
       "      <th>mpaa_rating</th>\n",
       "      <th>budget</th>\n",
       "      <th>gross</th>\n",
       "      <th>release_date</th>\n",
       "      <th>genre</th>\n",
       "      <th>runtime</th>\n",
       "      <th>rating</th>\n",
       "      <th>rating_count</th>\n",
       "    </tr>\n",
       "  </thead>\n",
       "  <tbody>\n",
       "    <tr>\n",
       "      <th>594</th>\n",
       "      <td>595</td>\n",
       "      <td>Avengers: Infinity War</td>\n",
       "      <td>PG-13</td>\n",
       "      <td>400000000</td>\n",
       "      <td>2048000000</td>\n",
       "      <td>2018-04-23</td>\n",
       "      <td>Action</td>\n",
       "      <td>149.0</td>\n",
       "      <td>6.9</td>\n",
       "      <td>240347.5</td>\n",
       "    </tr>\n",
       "    <tr>\n",
       "      <th>454</th>\n",
       "      <td>455</td>\n",
       "      <td>Pirates of the Caribbean: On Stranger Tides</td>\n",
       "      <td>PG-13</td>\n",
       "      <td>380000000</td>\n",
       "      <td>1045713802</td>\n",
       "      <td>2011-05-14</td>\n",
       "      <td>Action</td>\n",
       "      <td>136.0</td>\n",
       "      <td>6.6</td>\n",
       "      <td>455211.0</td>\n",
       "    </tr>\n",
       "    <tr>\n",
       "      <th>614</th>\n",
       "      <td>615</td>\n",
       "      <td>Avengers: Endgame</td>\n",
       "      <td>PG-13</td>\n",
       "      <td>356000000</td>\n",
       "      <td>2796000000</td>\n",
       "      <td>2019-04-22</td>\n",
       "      <td>Action</td>\n",
       "      <td>181.0</td>\n",
       "      <td>6.9</td>\n",
       "      <td>240347.5</td>\n",
       "    </tr>\n",
       "    <tr>\n",
       "      <th>574</th>\n",
       "      <td>575</td>\n",
       "      <td>Star Wars: The Last Jedi</td>\n",
       "      <td>PG-13</td>\n",
       "      <td>317000000</td>\n",
       "      <td>1333000000</td>\n",
       "      <td>2019-12-09</td>\n",
       "      <td>Science Fiction</td>\n",
       "      <td>152.0</td>\n",
       "      <td>6.9</td>\n",
       "      <td>240347.5</td>\n",
       "    </tr>\n",
       "    <tr>\n",
       "      <th>375</th>\n",
       "      <td>376</td>\n",
       "      <td>Pirates of the Caribbean: At World's End</td>\n",
       "      <td>PG-13</td>\n",
       "      <td>300000000</td>\n",
       "      <td>961000000</td>\n",
       "      <td>2007-05-19</td>\n",
       "      <td>Adventure</td>\n",
       "      <td>169.0</td>\n",
       "      <td>7.1</td>\n",
       "      <td>565402.0</td>\n",
       "    </tr>\n",
       "  </tbody>\n",
       "</table>\n",
       "</div>"
      ],
      "text/plain": [
       "     movie_id                                        title mpaa_rating  \\\n",
       "594       595                       Avengers: Infinity War       PG-13   \n",
       "454       455  Pirates of the Caribbean: On Stranger Tides       PG-13   \n",
       "614       615                            Avengers: Endgame       PG-13   \n",
       "574       575                     Star Wars: The Last Jedi       PG-13   \n",
       "375       376     Pirates of the Caribbean: At World's End       PG-13   \n",
       "\n",
       "        budget       gross release_date            genre  runtime  rating  \\\n",
       "594  400000000  2048000000   2018-04-23           Action    149.0     6.9   \n",
       "454  380000000  1045713802   2011-05-14           Action    136.0     6.6   \n",
       "614  356000000  2796000000   2019-04-22           Action    181.0     6.9   \n",
       "574  317000000  1333000000   2019-12-09  Science Fiction    152.0     6.9   \n",
       "375  300000000   961000000   2007-05-19        Adventure    169.0     7.1   \n",
       "\n",
       "     rating_count  \n",
       "594      240347.5  \n",
       "454      455211.0  \n",
       "614      240347.5  \n",
       "574      240347.5  \n",
       "375      565402.0  "
      ]
     },
     "execution_count": 317,
     "metadata": {},
     "output_type": "execute_result"
    }
   ],
   "source": [
    "df.sort_values('budget', ascending=False).head(5)"
   ]
  },
  {
   "cell_type": "markdown",
   "metadata": {},
   "source": [
    "# Show the top 5 Comedy movies by Rating\n",
    "\n"
   ]
  },
  {
   "cell_type": "code",
   "execution_count": 318,
   "metadata": {},
   "outputs": [
    {
     "data": {
      "text/html": [
       "<div>\n",
       "<style scoped>\n",
       "    .dataframe tbody tr th:only-of-type {\n",
       "        vertical-align: middle;\n",
       "    }\n",
       "\n",
       "    .dataframe tbody tr th {\n",
       "        vertical-align: top;\n",
       "    }\n",
       "\n",
       "    .dataframe thead th {\n",
       "        text-align: right;\n",
       "    }\n",
       "</style>\n",
       "<table border=\"1\" class=\"dataframe\">\n",
       "  <thead>\n",
       "    <tr style=\"text-align: right;\">\n",
       "      <th></th>\n",
       "      <th>title</th>\n",
       "      <th>genre</th>\n",
       "      <th>rating</th>\n",
       "    </tr>\n",
       "  </thead>\n",
       "  <tbody>\n",
       "  </tbody>\n",
       "</table>\n",
       "</div>"
      ],
      "text/plain": [
       "Empty DataFrame\n",
       "Columns: [title, genre, rating]\n",
       "Index: []"
      ]
     },
     "execution_count": 318,
     "metadata": {},
     "output_type": "execute_result"
    }
   ],
   "source": [
    "# csv.sort_values('Budget', ascending=False).head(5)\n",
    "\n",
    "# csv[('Genre' == 'Comedy')].sort_values('Rating', ascending=False)\n",
    "\n",
    "#csv_new = csv.sort_values('Rating', ascending=False)\n",
    "#csv_new[('Genre' == 'Comedy')]\n",
    "\n",
    "#csv_new = csv[('Genre' == 'Comedy')].sort_values(['Genre', 'Rating'], ascending=False)\n",
    "#csv_new.head(20)\n",
    "\n",
    "\n",
    "# Reference csv[((csv['Genre'] == 'Animation') & (csv['Rating'] > 7))].count()\n",
    "\n",
    "\n",
    "df_new = df[(df['genre'] == 'comedy')].sort_values(['genre', 'rating'], ascending=False)\n",
    "df_new[['title', 'genre', 'rating']].head(5)"
   ]
  },
  {
   "cell_type": "markdown",
   "metadata": {},
   "source": [
    "# Top 5 movie names by Rating\n",
    "\n"
   ]
  },
  {
   "cell_type": "code",
   "execution_count": 319,
   "metadata": {},
   "outputs": [
    {
     "data": {
      "text/html": [
       "<div>\n",
       "<style scoped>\n",
       "    .dataframe tbody tr th:only-of-type {\n",
       "        vertical-align: middle;\n",
       "    }\n",
       "\n",
       "    .dataframe tbody tr th {\n",
       "        vertical-align: top;\n",
       "    }\n",
       "\n",
       "    .dataframe thead th {\n",
       "        text-align: right;\n",
       "    }\n",
       "</style>\n",
       "<table border=\"1\" class=\"dataframe\">\n",
       "  <thead>\n",
       "    <tr style=\"text-align: right;\">\n",
       "      <th></th>\n",
       "      <th>title</th>\n",
       "      <th>rating</th>\n",
       "    </tr>\n",
       "  </thead>\n",
       "  <tbody>\n",
       "    <tr>\n",
       "      <th>393</th>\n",
       "      <td>The Dark Knight</td>\n",
       "      <td>9.0</td>\n",
       "    </tr>\n",
       "    <tr>\n",
       "      <th>83</th>\n",
       "      <td>Schindler's List</td>\n",
       "      <td>8.9</td>\n",
       "    </tr>\n",
       "    <tr>\n",
       "      <th>287</th>\n",
       "      <td>The Lord of the Rings: The Return of the King</td>\n",
       "      <td>8.9</td>\n",
       "    </tr>\n",
       "    <tr>\n",
       "      <th>99</th>\n",
       "      <td>Pulp Fiction</td>\n",
       "      <td>8.9</td>\n",
       "    </tr>\n",
       "    <tr>\n",
       "      <th>98</th>\n",
       "      <td>Jurassic Park III</td>\n",
       "      <td>8.9</td>\n",
       "    </tr>\n",
       "  </tbody>\n",
       "</table>\n",
       "</div>"
      ],
      "text/plain": [
       "                                             title  rating\n",
       "393                                The Dark Knight     9.0\n",
       "83                                Schindler's List     8.9\n",
       "287  The Lord of the Rings: The Return of the King     8.9\n",
       "99                                    Pulp Fiction     8.9\n",
       "98                               Jurassic Park III     8.9"
      ]
     },
     "execution_count": 319,
     "metadata": {},
     "output_type": "execute_result"
    }
   ],
   "source": [
    "df_new2 = df.sort_values('rating', ascending=False)\n",
    "df_new2[['title', 'rating']].head()"
   ]
  },
  {
   "cell_type": "markdown",
   "metadata": {},
   "source": [
    "# Top 3 high Gross Romance movies released after 1999 (typecast it to datetime)\n",
    "\n"
   ]
  },
  {
   "cell_type": "code",
   "execution_count": 320,
   "metadata": {},
   "outputs": [
    {
     "name": "stdout",
     "output_type": "stream",
     "text": [
      "                                                 title release_date     budget\n",
      "233                                  The Perfect Storm   2000-03-15  120000000\n",
      "223                                    Erin Brockovich   2000-03-17   52000000\n",
      "231                                          Gladiator   2000-05-01  103000000\n",
      "236                                           Dinosaur   2000-05-19  127500000\n",
      "235                             Mission: Impossible II   2000-05-24  125000000\n",
      "219                                  Big Momma's House   2000-05-31   30000000\n",
      "221                                        Chicken Run   2000-06-21   45000000\n",
      "232                                        The Patriot   2000-06-28  110000000\n",
      "218                                        Scary Movie   2000-07-07   19000000\n",
      "226                                              X-Men   2000-07-13   75000000\n",
      "230                                  What Lies Beneath   2000-07-21  100000000\n",
      "227                     Nutty Professor II: The Klumps   2000-07-27   84000000\n",
      "220                                Remember the Titans   2000-09-29   30000000\n",
      "217                     Crouching Tiger, Hidden Dragon   2000-10-01   17000000\n",
      "224                                   Meet the Parents   2000-10-06   55000000\n",
      "229                                   Charlie's Angels   2000-11-02   92000000\n",
      "234                     How the Grinch Stole Christmas   2000-11-17  123000000\n",
      "225                                    What Women Want   2000-12-15   70000000\n",
      "228                                          Cast Away   2000-12-22   90000000\n",
      "222                                            Traffic   2000-12-27   48000000\n",
      "246                                           Hannibal   2001-02-08   87000000\n",
      "238                                           Spy Kids   2001-03-18   35000000\n",
      "251                                  The Mummy Returns   2001-04-28   98000000\n",
      "241                                              Shrek   2001-05-16   60000000\n",
      "256                                       Pearl Harbor   2001-05-21  140000000\n",
      "253                            Lara Croft: Tomb Raider   2001-06-11  115000000\n",
      "240                           The Fast and the Furious   2001-06-22   38000000\n",
      "244                                     Dr. Dolittle 2   2001-06-22   70000000\n",
      "98                                   Jurassic Park III   2001-07-16   93000000\n",
      "249                                  Jurassic Park III   2001-07-18   93000000\n",
      "252                                 Planet of the Apes   2001-07-25  100000000\n",
      "247                                        Rush Hour 2   2001-08-03   90000000\n",
      "239                               The Princess Diaries   2001-08-03   37000000\n",
      "237                                     American Pie 2   2001-08-10   30000000\n",
      "254                                     Monsters, Inc.   2001-11-01  115000000\n",
      "255              Harry Potter and the Sorcerer's Stone   2001-11-04  125000000\n",
      "245                                     Ocean's Eleven   2001-12-07   85000000\n",
      "243                                        Vanilla Sky   2001-12-10   68000000\n",
      "242                                   A Beautiful Mind   2001-12-11   60000000\n",
      "250  The Lord of the Rings: The Fellowship of the Ring   2001-12-18   93000000\n",
      "248                                    Black Hawk Down   2001-12-28   92000000\n",
      "257                           My Big Fat Greek Wedding   2002-02-22    5000000\n",
      "261                                            Ice Age   2002-03-10   59000000\n",
      "273                                         Spider-Man   2002-05-01  139000000\n",
      "272       Star Wars: Episode II - Attack of the Clones   2002-05-15  120000000\n",
      "269                                         Scooby-Doo   2002-06-14   84000000\n",
      "262                                The Bourne Identity   2002-06-14   60000000\n",
      "271                                    Minority Report   2002-06-20  102000000\n",
      "268                                      Lilo & Stitch   2002-06-21   80000000\n",
      "260                                          Mr. Deeds   2002-06-28   50000000\n",
      "---------\n",
      " The latest release is: title                           xXx\n",
      "release_date    2019-12-09 00:00:00\n",
      "budget                    400000000\n",
      "dtype: object\n"
     ]
    }
   ],
   "source": [
    "\n",
    "# df[df['release_date'] > datetime.date(1999)]\n",
    "\n",
    "date1999 = df[df['release_date'].dt.year > 1999]\n",
    "date1999 = date1999[['title', 'release_date', 'budget']].sort_values('release_date', ascending=True)\n",
    "print(date1999.head(50))\n",
    "print('---------')\n",
    "print(f' The latest release is: {date1999.max()}')\n",
    "\n"
   ]
  },
  {
   "cell_type": "markdown",
   "metadata": {},
   "source": [
    "# 8 How many of each Genre are present in the DataFrame? (use value_counts() method which applies to Series, not DataFrame)\n",
    "\n"
   ]
  },
  {
   "cell_type": "code",
   "execution_count": 321,
   "metadata": {},
   "outputs": [
    {
     "name": "stdout",
     "output_type": "stream",
     "text": [
      "Genre\n",
      "Action             110\n",
      "Comedy              99\n",
      "Animation           87\n",
      "Drama               66\n",
      "Thriller            41\n",
      "Science Fiction     37\n",
      "Adventure           30\n",
      "Family              29\n",
      "Romance             28\n",
      "Fantasy             27\n",
      "Crime               17\n",
      "Horror              14\n",
      "Mystery             11\n",
      "War                  9\n",
      "Western              6\n",
      "History              4\n",
      "Name: count, dtype: int64\n"
     ]
    }
   ],
   "source": [
    "print(csv['Genre'].value_counts())"
   ]
  },
  {
   "cell_type": "markdown",
   "metadata": {},
   "source": [
    "# 9 Top 5 most expensive movies released after 1999 (measured by Budget)\n",
    "\n"
   ]
  },
  {
   "cell_type": "code",
   "execution_count": 322,
   "metadata": {},
   "outputs": [
    {
     "name": "stdout",
     "output_type": "stream",
     "text": [
      "                                           title release_date     budget\n",
      "594                       Avengers: Infinity War   2018-04-23  400000000\n",
      "454  Pirates of the Caribbean: On Stranger Tides   2011-05-14  380000000\n",
      "614                            Avengers: Endgame   2019-04-22  356000000\n",
      "574                     Star Wars: The Last Jedi   2019-12-09  317000000\n",
      "573                               Justice League   2017-11-15  300000000\n"
     ]
    }
   ],
   "source": [
    "date1999_budget = date1999[['title', 'release_date', 'budget']].sort_values('budget', ascending=False)\n",
    "print(date1999_budget.head(5))\n"
   ]
  },
  {
   "cell_type": "markdown",
   "metadata": {},
   "source": [
    "# 10 Most & least frequent MPAA Rating in the dataset in terms of occurrences\n",
    "\n"
   ]
  },
  {
   "cell_type": "code",
   "execution_count": 323,
   "metadata": {},
   "outputs": [
    {
     "name": "stdout",
     "output_type": "stream",
     "text": [
      "MPAA Rating\n",
      "PG-13    285\n",
      "PG       161\n",
      "R        142\n",
      "G         27\n",
      "Name: count, dtype: int64\n",
      "--------\n",
      "285\n",
      "27\n",
      "--------\n",
      "Most frequent MPAA Rating is 285\n",
      "161 is neither the Least or Most frequent MPAA Rating\n",
      "142 is neither the Least or Most frequent MPAA Rating\n",
      "Less frequent MPAA Rating is 27\n"
     ]
    }
   ],
   "source": [
    "csv_rating_count = csv['MPAA Rating'].value_counts()\n",
    "print(csv_rating_count)\n",
    "print('--------')\n",
    "# csv_rating_count['rating_count'] = csv['MPAA Rating'].value_counts()\n",
    "max_value = csv['MPAA Rating'].value_counts().max()\n",
    "min_value = csv['MPAA Rating'].value_counts().min()\n",
    "print(max_value)\n",
    "print(min_value)\n",
    "print('--------')\n",
    "# print(lambda x: csv['MPAA Rating'].value_counts() == 285)\n",
    "\n",
    "csv_rating_count_formula = csv_rating_count.apply(lambda a: print(f'Most frequent MPAA Rating is {a}') if a == max_value else print(f'Less frequent MPAA Rating is {a}') if a == min_value else print(f'{a} is neither the Least or Most frequent MPAA Rating'))\n",
    "\n"
   ]
  },
  {
   "cell_type": "markdown",
   "metadata": {},
   "source": [
    "# 11 Most & least expensive Genre (take an average of all Budget measures grouped by Genre - use the groupBy() method)"
   ]
  },
  {
   "cell_type": "code",
   "execution_count": null,
   "metadata": {},
   "outputs": [
    {
     "data": {
      "text/plain": [
       "genre\n",
       "Action             1.441682e+08\n",
       "Adventure          1.338333e+08\n",
       "Animation          1.158793e+08\n",
       "Comedy             4.957727e+07\n",
       "Crime              5.658824e+07\n",
       "Drama              5.592576e+07\n",
       "Family             6.268966e+07\n",
       "Fantasy            1.612111e+08\n",
       "History            5.550000e+07\n",
       "Horror             3.700429e+07\n",
       "Mystery            1.035455e+08\n",
       "Romance            4.540020e+07\n",
       "Science Fiction    1.267838e+08\n",
       "Thriller           8.658537e+07\n",
       "War                9.075556e+07\n",
       "Western            7.983333e+07\n",
       "Name: budget, dtype: float64"
      ]
     },
     "execution_count": 325,
     "metadata": {},
     "output_type": "execute_result"
    }
   ],
   "source": [
    "# df.groupby('genre')['budget'].mean().sort_values(ascending=True)\n",
    "df.groupby('genre')['budget'].mean()\n"
   ]
  },
  {
   "cell_type": "code",
   "execution_count": null,
   "metadata": {},
   "outputs": [],
   "source": []
  }
 ],
 "metadata": {
  "kernelspec": {
   "display_name": "MarcosPython10",
   "language": "python",
   "name": "python3"
  },
  "language_info": {
   "codemirror_mode": {
    "name": "ipython",
    "version": 3
   },
   "file_extension": ".py",
   "mimetype": "text/x-python",
   "name": "python",
   "nbconvert_exporter": "python",
   "pygments_lexer": "ipython3",
   "version": "3.10.18"
  }
 },
 "nbformat": 4,
 "nbformat_minor": 2
}
