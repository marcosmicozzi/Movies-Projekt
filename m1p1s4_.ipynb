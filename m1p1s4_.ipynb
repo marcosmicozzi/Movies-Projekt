{
 "cells": [
  {
   "cell_type": "code",
   "execution_count": 2,
   "metadata": {},
   "outputs": [],
   "source": [
    "import pandas as pd"
   ]
  },
  {
   "cell_type": "code",
   "execution_count": 3,
   "metadata": {},
   "outputs": [],
   "source": [
    "csv = pd.read_csv('movies_2.csv')\n",
    "csv.head()\n",
    "df = pd.DataFrame(csv)"
   ]
  },
  {
   "cell_type": "code",
   "execution_count": 4,
   "metadata": {},
   "outputs": [
    {
     "data": {
      "text/plain": [
       "(616, 11)"
      ]
     },
     "execution_count": 4,
     "metadata": {},
     "output_type": "execute_result"
    }
   ],
   "source": [
    "df.shape"
   ]
  },
  {
   "cell_type": "code",
   "execution_count": 5,
   "metadata": {},
   "outputs": [
    {
     "data": {
      "text/plain": [
       "<bound method DataFrame.info of      MovieID                                  Title MPAA Rating       Budget  \\\n",
       "0          1                     Look Who's Talking       PG-13    7500000.0   \n",
       "1          2                     Driving Miss Daisy          PG    7500000.0   \n",
       "2          3                         Turner & Hooch          PG   13000000.0   \n",
       "3          4             Born on the Fourth of July           R   14000000.0   \n",
       "4          5                        Field of Dreams          PG   15000000.0   \n",
       "..       ...                                    ...         ...          ...   \n",
       "611      612                            Toy Story 4           G  200000000.0   \n",
       "612      613  Fast & Furious Presents: Hobbs & Shaw       PG-13  200000000.0   \n",
       "613      614                          The Lion King          PG  250000000.0   \n",
       "614      615                      Avengers: Endgame       PG-13  356000000.0   \n",
       "615        0                                    NaN         NaN          NaN   \n",
       "\n",
       "            Gross Release Date      Genre  Runtime  Rating  Rating Count  \\\n",
       "0    2.960000e+08   1989-10-12    Romance     93.0     5.9       73638.0   \n",
       "1    1.457933e+08   1989-12-13     Comedy     99.0     7.4       91075.0   \n",
       "2    7.107992e+07   1989-07-28      Crime    100.0     7.2       91415.0   \n",
       "3    1.610017e+08   1989-12-20        War    145.0     7.2       91415.0   \n",
       "4    8.443162e+07   1989-04-21      Drama    107.0     7.5      101702.0   \n",
       "..            ...          ...        ...      ...     ...           ...   \n",
       "611  1.062000e+09   2019-06-11  Animation    100.0     NaN           NaN   \n",
       "612  7.594000e+08   2019-07-13   Thriller    136.0     NaN           NaN   \n",
       "613  1.632000e+09   2019-07-09      Drama    118.0     NaN           NaN   \n",
       "614  2.796000e+09   2019-04-22     Action    181.0     NaN           NaN   \n",
       "615           NaN          NaN        NaN      NaN     NaN           NaN   \n",
       "\n",
       "                                               Summary  \n",
       "0    After a single, career-minded woman is left on...  \n",
       "1    An old Jewish woman and her African-American c...  \n",
       "2    Det. Scott Turner (Tom Hanks) is an uptight, b...  \n",
       "3    The biography of Ron Kovic. Paralyzed in the V...  \n",
       "4    An Iowa corn farmer, hearing voices, interpret...  \n",
       "..                                                 ...  \n",
       "611                                                NaN  \n",
       "612                                                NaN  \n",
       "613                                                NaN  \n",
       "614                                                NaN  \n",
       "615                                                NaN  \n",
       "\n",
       "[616 rows x 11 columns]>"
      ]
     },
     "execution_count": 5,
     "metadata": {},
     "output_type": "execute_result"
    }
   ],
   "source": [
    "df.info"
   ]
  },
  {
   "cell_type": "code",
   "execution_count": 6,
   "metadata": {},
   "outputs": [
    {
     "data": {
      "text/plain": [
       "MovieID           int64\n",
       "Title            object\n",
       "MPAA Rating      object\n",
       "Budget          float64\n",
       "Gross           float64\n",
       "Release Date     object\n",
       "Genre            object\n",
       "Runtime         float64\n",
       "Rating          float64\n",
       "Rating Count    float64\n",
       "Summary          object\n",
       "dtype: object"
      ]
     },
     "execution_count": 6,
     "metadata": {},
     "output_type": "execute_result"
    }
   ],
   "source": [
    "df.dtypes"
   ]
  },
  {
   "cell_type": "markdown",
   "metadata": {},
   "source": [
    "# Finding amount of Null Values "
   ]
  },
  {
   "cell_type": "code",
   "execution_count": 7,
   "metadata": {},
   "outputs": [
    {
     "data": {
      "text/plain": [
       "MovieID           0\n",
       "Title             1\n",
       "MPAA Rating       1\n",
       "Budget            1\n",
       "Gross             1\n",
       "Release Date      1\n",
       "Genre             1\n",
       "Runtime           1\n",
       "Rating          108\n",
       "Rating Count    108\n",
       "Summary         120\n",
       "dtype: int64"
      ]
     },
     "execution_count": 7,
     "metadata": {},
     "output_type": "execute_result"
    }
   ],
   "source": [
    "df.isnull().sum()"
   ]
  },
  {
   "cell_type": "markdown",
   "metadata": {},
   "source": [
    "# Drop Column"
   ]
  },
  {
   "cell_type": "code",
   "execution_count": 8,
   "metadata": {},
   "outputs": [],
   "source": [
    "# This was very important because I could only drop by converting to DataFrame. \n",
    "df = df.drop(columns='Summary')"
   ]
  },
  {
   "cell_type": "markdown",
   "metadata": {},
   "source": [
    "# Rename columns lowercase"
   ]
  },
  {
   "cell_type": "code",
   "execution_count": 9,
   "metadata": {},
   "outputs": [
    {
     "data": {
      "text/html": [
       "<div>\n",
       "<style scoped>\n",
       "    .dataframe tbody tr th:only-of-type {\n",
       "        vertical-align: middle;\n",
       "    }\n",
       "\n",
       "    .dataframe tbody tr th {\n",
       "        vertical-align: top;\n",
       "    }\n",
       "\n",
       "    .dataframe thead th {\n",
       "        text-align: right;\n",
       "    }\n",
       "</style>\n",
       "<table border=\"1\" class=\"dataframe\">\n",
       "  <thead>\n",
       "    <tr style=\"text-align: right;\">\n",
       "      <th></th>\n",
       "      <th>movie_id</th>\n",
       "      <th>title</th>\n",
       "      <th>mpaa_rating</th>\n",
       "      <th>budget</th>\n",
       "      <th>gross</th>\n",
       "      <th>release_date</th>\n",
       "      <th>genre</th>\n",
       "      <th>runtime</th>\n",
       "      <th>rating</th>\n",
       "      <th>rating_count</th>\n",
       "    </tr>\n",
       "  </thead>\n",
       "  <tbody>\n",
       "    <tr>\n",
       "      <th>0</th>\n",
       "      <td>1</td>\n",
       "      <td>Look Who's Talking</td>\n",
       "      <td>PG-13</td>\n",
       "      <td>7500000.0</td>\n",
       "      <td>2.960000e+08</td>\n",
       "      <td>1989-10-12</td>\n",
       "      <td>Romance</td>\n",
       "      <td>93.0</td>\n",
       "      <td>5.9</td>\n",
       "      <td>73638.0</td>\n",
       "    </tr>\n",
       "    <tr>\n",
       "      <th>1</th>\n",
       "      <td>2</td>\n",
       "      <td>Driving Miss Daisy</td>\n",
       "      <td>PG</td>\n",
       "      <td>7500000.0</td>\n",
       "      <td>1.457933e+08</td>\n",
       "      <td>1989-12-13</td>\n",
       "      <td>Comedy</td>\n",
       "      <td>99.0</td>\n",
       "      <td>7.4</td>\n",
       "      <td>91075.0</td>\n",
       "    </tr>\n",
       "    <tr>\n",
       "      <th>2</th>\n",
       "      <td>3</td>\n",
       "      <td>Turner &amp; Hooch</td>\n",
       "      <td>PG</td>\n",
       "      <td>13000000.0</td>\n",
       "      <td>7.107992e+07</td>\n",
       "      <td>1989-07-28</td>\n",
       "      <td>Crime</td>\n",
       "      <td>100.0</td>\n",
       "      <td>7.2</td>\n",
       "      <td>91415.0</td>\n",
       "    </tr>\n",
       "    <tr>\n",
       "      <th>3</th>\n",
       "      <td>4</td>\n",
       "      <td>Born on the Fourth of July</td>\n",
       "      <td>R</td>\n",
       "      <td>14000000.0</td>\n",
       "      <td>1.610017e+08</td>\n",
       "      <td>1989-12-20</td>\n",
       "      <td>War</td>\n",
       "      <td>145.0</td>\n",
       "      <td>7.2</td>\n",
       "      <td>91415.0</td>\n",
       "    </tr>\n",
       "    <tr>\n",
       "      <th>4</th>\n",
       "      <td>5</td>\n",
       "      <td>Field of Dreams</td>\n",
       "      <td>PG</td>\n",
       "      <td>15000000.0</td>\n",
       "      <td>8.443162e+07</td>\n",
       "      <td>1989-04-21</td>\n",
       "      <td>Drama</td>\n",
       "      <td>107.0</td>\n",
       "      <td>7.5</td>\n",
       "      <td>101702.0</td>\n",
       "    </tr>\n",
       "    <tr>\n",
       "      <th>...</th>\n",
       "      <td>...</td>\n",
       "      <td>...</td>\n",
       "      <td>...</td>\n",
       "      <td>...</td>\n",
       "      <td>...</td>\n",
       "      <td>...</td>\n",
       "      <td>...</td>\n",
       "      <td>...</td>\n",
       "      <td>...</td>\n",
       "      <td>...</td>\n",
       "    </tr>\n",
       "    <tr>\n",
       "      <th>611</th>\n",
       "      <td>612</td>\n",
       "      <td>Toy Story 4</td>\n",
       "      <td>G</td>\n",
       "      <td>200000000.0</td>\n",
       "      <td>1.062000e+09</td>\n",
       "      <td>2019-06-11</td>\n",
       "      <td>Animation</td>\n",
       "      <td>100.0</td>\n",
       "      <td>NaN</td>\n",
       "      <td>NaN</td>\n",
       "    </tr>\n",
       "    <tr>\n",
       "      <th>612</th>\n",
       "      <td>613</td>\n",
       "      <td>Fast &amp; Furious Presents: Hobbs &amp; Shaw</td>\n",
       "      <td>PG-13</td>\n",
       "      <td>200000000.0</td>\n",
       "      <td>7.594000e+08</td>\n",
       "      <td>2019-07-13</td>\n",
       "      <td>Thriller</td>\n",
       "      <td>136.0</td>\n",
       "      <td>NaN</td>\n",
       "      <td>NaN</td>\n",
       "    </tr>\n",
       "    <tr>\n",
       "      <th>613</th>\n",
       "      <td>614</td>\n",
       "      <td>The Lion King</td>\n",
       "      <td>PG</td>\n",
       "      <td>250000000.0</td>\n",
       "      <td>1.632000e+09</td>\n",
       "      <td>2019-07-09</td>\n",
       "      <td>Drama</td>\n",
       "      <td>118.0</td>\n",
       "      <td>NaN</td>\n",
       "      <td>NaN</td>\n",
       "    </tr>\n",
       "    <tr>\n",
       "      <th>614</th>\n",
       "      <td>615</td>\n",
       "      <td>Avengers: Endgame</td>\n",
       "      <td>PG-13</td>\n",
       "      <td>356000000.0</td>\n",
       "      <td>2.796000e+09</td>\n",
       "      <td>2019-04-22</td>\n",
       "      <td>Action</td>\n",
       "      <td>181.0</td>\n",
       "      <td>NaN</td>\n",
       "      <td>NaN</td>\n",
       "    </tr>\n",
       "    <tr>\n",
       "      <th>615</th>\n",
       "      <td>0</td>\n",
       "      <td>NaN</td>\n",
       "      <td>NaN</td>\n",
       "      <td>NaN</td>\n",
       "      <td>NaN</td>\n",
       "      <td>NaN</td>\n",
       "      <td>NaN</td>\n",
       "      <td>NaN</td>\n",
       "      <td>NaN</td>\n",
       "      <td>NaN</td>\n",
       "    </tr>\n",
       "  </tbody>\n",
       "</table>\n",
       "<p>616 rows × 10 columns</p>\n",
       "</div>"
      ],
      "text/plain": [
       "     movie_id                                  title mpaa_rating       budget  \\\n",
       "0           1                     Look Who's Talking       PG-13    7500000.0   \n",
       "1           2                     Driving Miss Daisy          PG    7500000.0   \n",
       "2           3                         Turner & Hooch          PG   13000000.0   \n",
       "3           4             Born on the Fourth of July           R   14000000.0   \n",
       "4           5                        Field of Dreams          PG   15000000.0   \n",
       "..        ...                                    ...         ...          ...   \n",
       "611       612                            Toy Story 4           G  200000000.0   \n",
       "612       613  Fast & Furious Presents: Hobbs & Shaw       PG-13  200000000.0   \n",
       "613       614                          The Lion King          PG  250000000.0   \n",
       "614       615                      Avengers: Endgame       PG-13  356000000.0   \n",
       "615         0                                    NaN         NaN          NaN   \n",
       "\n",
       "            gross release_date      genre  runtime  rating  rating_count  \n",
       "0    2.960000e+08   1989-10-12    Romance     93.0     5.9       73638.0  \n",
       "1    1.457933e+08   1989-12-13     Comedy     99.0     7.4       91075.0  \n",
       "2    7.107992e+07   1989-07-28      Crime    100.0     7.2       91415.0  \n",
       "3    1.610017e+08   1989-12-20        War    145.0     7.2       91415.0  \n",
       "4    8.443162e+07   1989-04-21      Drama    107.0     7.5      101702.0  \n",
       "..            ...          ...        ...      ...     ...           ...  \n",
       "611  1.062000e+09   2019-06-11  Animation    100.0     NaN           NaN  \n",
       "612  7.594000e+08   2019-07-13   Thriller    136.0     NaN           NaN  \n",
       "613  1.632000e+09   2019-07-09      Drama    118.0     NaN           NaN  \n",
       "614  2.796000e+09   2019-04-22     Action    181.0     NaN           NaN  \n",
       "615           NaN          NaN        NaN      NaN     NaN           NaN  \n",
       "\n",
       "[616 rows x 10 columns]"
      ]
     },
     "execution_count": 9,
     "metadata": {},
     "output_type": "execute_result"
    }
   ],
   "source": [
    "df = df.rename(str.lower, axis=1)\n",
    "df = df.rename(columns={'movieid':'movie_id', 'mpaa rating':'mpaa_rating', 'release date':'release_date', 'rating count':'rating_count'})\n",
    "df"
   ]
  },
  {
   "cell_type": "markdown",
   "metadata": {},
   "source": [
    "# Finding Nan Values again"
   ]
  },
  {
   "cell_type": "code",
   "execution_count": 10,
   "metadata": {},
   "outputs": [
    {
     "name": "stdout",
     "output_type": "stream",
     "text": [
      "movie_id  title  mpaa_rating  budget  gross  release_date  genre  runtime  rating  rating_count\n",
      "False     False  False        False   False  False         False  False    False   False           508\n",
      "                                                                           True    True            107\n",
      "          True   True         True    True   True          True   True     True    True              1\n",
      "Name: count, dtype: int64\n"
     ]
    }
   ],
   "source": [
    "# This is confusing so better I used df.info()\n",
    "print(df.isna().value_counts())\n"
   ]
  },
  {
   "cell_type": "code",
   "execution_count": 11,
   "metadata": {},
   "outputs": [
    {
     "name": "stdout",
     "output_type": "stream",
     "text": [
      "<class 'pandas.core.frame.DataFrame'>\n",
      "RangeIndex: 616 entries, 0 to 615\n",
      "Data columns (total 10 columns):\n",
      " #   Column        Non-Null Count  Dtype  \n",
      "---  ------        --------------  -----  \n",
      " 0   movie_id      616 non-null    int64  \n",
      " 1   title         615 non-null    object \n",
      " 2   mpaa_rating   615 non-null    object \n",
      " 3   budget        615 non-null    float64\n",
      " 4   gross         615 non-null    float64\n",
      " 5   release_date  615 non-null    object \n",
      " 6   genre         615 non-null    object \n",
      " 7   runtime       615 non-null    float64\n",
      " 8   rating        508 non-null    float64\n",
      " 9   rating_count  508 non-null    float64\n",
      "dtypes: float64(5), int64(1), object(4)\n",
      "memory usage: 48.2+ KB\n"
     ]
    }
   ],
   "source": [
    "df.info()"
   ]
  },
  {
   "cell_type": "markdown",
   "metadata": {},
   "source": [
    "# Replacing Nan values in rating for median"
   ]
  },
  {
   "cell_type": "code",
   "execution_count": 12,
   "metadata": {},
   "outputs": [],
   "source": [
    "# When I used df = ... it would then not allow me to use df.info()\n",
    "df.fillna({'rating':df['rating'].median()}, inplace=True)"
   ]
  },
  {
   "cell_type": "code",
   "execution_count": 13,
   "metadata": {},
   "outputs": [
    {
     "name": "stdout",
     "output_type": "stream",
     "text": [
      "<class 'pandas.core.frame.DataFrame'>\n",
      "RangeIndex: 616 entries, 0 to 615\n",
      "Data columns (total 10 columns):\n",
      " #   Column        Non-Null Count  Dtype  \n",
      "---  ------        --------------  -----  \n",
      " 0   movie_id      616 non-null    int64  \n",
      " 1   title         615 non-null    object \n",
      " 2   mpaa_rating   615 non-null    object \n",
      " 3   budget        615 non-null    float64\n",
      " 4   gross         615 non-null    float64\n",
      " 5   release_date  615 non-null    object \n",
      " 6   genre         615 non-null    object \n",
      " 7   runtime       615 non-null    float64\n",
      " 8   rating        616 non-null    float64\n",
      " 9   rating_count  508 non-null    float64\n",
      "dtypes: float64(5), int64(1), object(4)\n",
      "memory usage: 48.2+ KB\n"
     ]
    }
   ],
   "source": [
    "df.info()"
   ]
  },
  {
   "cell_type": "markdown",
   "metadata": {},
   "source": [
    "# Replacing Nan values in rating_count for median"
   ]
  },
  {
   "cell_type": "code",
   "execution_count": 14,
   "metadata": {},
   "outputs": [],
   "source": [
    "df.fillna({'rating_count':df['rating_count'].median()}, inplace=True)"
   ]
  },
  {
   "cell_type": "code",
   "execution_count": 15,
   "metadata": {},
   "outputs": [
    {
     "name": "stdout",
     "output_type": "stream",
     "text": [
      "<class 'pandas.core.frame.DataFrame'>\n",
      "RangeIndex: 616 entries, 0 to 615\n",
      "Data columns (total 10 columns):\n",
      " #   Column        Non-Null Count  Dtype  \n",
      "---  ------        --------------  -----  \n",
      " 0   movie_id      616 non-null    int64  \n",
      " 1   title         615 non-null    object \n",
      " 2   mpaa_rating   615 non-null    object \n",
      " 3   budget        615 non-null    float64\n",
      " 4   gross         615 non-null    float64\n",
      " 5   release_date  615 non-null    object \n",
      " 6   genre         615 non-null    object \n",
      " 7   runtime       615 non-null    float64\n",
      " 8   rating        616 non-null    float64\n",
      " 9   rating_count  616 non-null    float64\n",
      "dtypes: float64(5), int64(1), object(4)\n",
      "memory usage: 48.2+ KB\n"
     ]
    }
   ],
   "source": [
    "df.info()"
   ]
  },
  {
   "cell_type": "markdown",
   "metadata": {},
   "source": [
    "# I still have 1 Nan on almost each category, sometimes even on genre, whcih means I cannot create a math equation\n",
    "# like .mean(), so I will now drop those values. "
   ]
  },
  {
   "cell_type": "code",
   "execution_count": 16,
   "metadata": {},
   "outputs": [],
   "source": [
    "# when to use df = ... and when not to?\n",
    "\n",
    "df = df.dropna()"
   ]
  },
  {
   "cell_type": "code",
   "execution_count": 17,
   "metadata": {},
   "outputs": [
    {
     "name": "stdout",
     "output_type": "stream",
     "text": [
      "<class 'pandas.core.frame.DataFrame'>\n",
      "Index: 615 entries, 0 to 614\n",
      "Data columns (total 10 columns):\n",
      " #   Column        Non-Null Count  Dtype  \n",
      "---  ------        --------------  -----  \n",
      " 0   movie_id      615 non-null    int64  \n",
      " 1   title         615 non-null    object \n",
      " 2   mpaa_rating   615 non-null    object \n",
      " 3   budget        615 non-null    float64\n",
      " 4   gross         615 non-null    float64\n",
      " 5   release_date  615 non-null    object \n",
      " 6   genre         615 non-null    object \n",
      " 7   runtime       615 non-null    float64\n",
      " 8   rating        615 non-null    float64\n",
      " 9   rating_count  615 non-null    float64\n",
      "dtypes: float64(5), int64(1), object(4)\n",
      "memory usage: 52.9+ KB\n"
     ]
    }
   ],
   "source": [
    "df.info()"
   ]
  },
  {
   "cell_type": "markdown",
   "metadata": {},
   "source": [
    "# Turning Float into int"
   ]
  },
  {
   "cell_type": "code",
   "execution_count": 18,
   "metadata": {},
   "outputs": [
    {
     "name": "stdout",
     "output_type": "stream",
     "text": [
      "0        7500000.0\n",
      "1        7500000.0\n",
      "2       13000000.0\n",
      "3       14000000.0\n",
      "4       15000000.0\n",
      "          ...     \n",
      "610    200000000.0\n",
      "611    200000000.0\n",
      "612    200000000.0\n",
      "613    250000000.0\n",
      "614    356000000.0\n",
      "Name: budget, Length: 615, dtype: float64\n"
     ]
    },
    {
     "name": "stderr",
     "output_type": "stream",
     "text": [
      "/var/folders/pm/7vn7thz14p556cr_ql9w5xbw0000gn/T/ipykernel_4289/2655150809.py:4: SettingWithCopyWarning: \n",
      "A value is trying to be set on a copy of a slice from a DataFrame.\n",
      "Try using .loc[row_indexer,col_indexer] = value instead\n",
      "\n",
      "See the caveats in the documentation: https://pandas.pydata.org/pandas-docs/stable/user_guide/indexing.html#returning-a-view-versus-a-copy\n",
      "  df['budget'] = df['budget'].astype(int)\n"
     ]
    }
   ],
   "source": [
    "print(df['budget'])\n",
    "\n",
    "# I had to do df budget = df... \n",
    "df['budget'] = df['budget'].astype(int)\n"
   ]
  },
  {
   "cell_type": "code",
   "execution_count": 19,
   "metadata": {},
   "outputs": [
    {
     "data": {
      "text/plain": [
       "0        7500000\n",
       "1        7500000\n",
       "2       13000000\n",
       "3       14000000\n",
       "4       15000000\n",
       "         ...    \n",
       "610    200000000\n",
       "611    200000000\n",
       "612    200000000\n",
       "613    250000000\n",
       "614    356000000\n",
       "Name: budget, Length: 615, dtype: int64"
      ]
     },
     "execution_count": 19,
     "metadata": {},
     "output_type": "execute_result"
    }
   ],
   "source": [
    "df['budget']"
   ]
  },
  {
   "cell_type": "code",
   "execution_count": 20,
   "metadata": {},
   "outputs": [
    {
     "name": "stderr",
     "output_type": "stream",
     "text": [
      "/var/folders/pm/7vn7thz14p556cr_ql9w5xbw0000gn/T/ipykernel_4289/4243391415.py:1: SettingWithCopyWarning: \n",
      "A value is trying to be set on a copy of a slice from a DataFrame.\n",
      "Try using .loc[row_indexer,col_indexer] = value instead\n",
      "\n",
      "See the caveats in the documentation: https://pandas.pydata.org/pandas-docs/stable/user_guide/indexing.html#returning-a-view-versus-a-copy\n",
      "  df['gross'] = df['gross'].astype(int)\n"
     ]
    }
   ],
   "source": [
    "df['gross'] = df['gross'].astype(int)\n"
   ]
  },
  {
   "cell_type": "code",
   "execution_count": 21,
   "metadata": {},
   "outputs": [
    {
     "data": {
      "text/plain": [
       "0       296000000\n",
       "1       145793296\n",
       "2        71079915\n",
       "3       161001698\n",
       "4        84431625\n",
       "          ...    \n",
       "610     385900000\n",
       "611    1062000000\n",
       "612     759400000\n",
       "613    1632000000\n",
       "614    2796000000\n",
       "Name: gross, Length: 615, dtype: int64"
      ]
     },
     "execution_count": 21,
     "metadata": {},
     "output_type": "execute_result"
    }
   ],
   "source": [
    "df['gross']"
   ]
  },
  {
   "cell_type": "markdown",
   "metadata": {},
   "source": [
    "# Setting Datetime"
   ]
  },
  {
   "cell_type": "code",
   "execution_count": 22,
   "metadata": {},
   "outputs": [
    {
     "name": "stderr",
     "output_type": "stream",
     "text": [
      "/var/folders/pm/7vn7thz14p556cr_ql9w5xbw0000gn/T/ipykernel_4289/1525507706.py:1: SettingWithCopyWarning: \n",
      "A value is trying to be set on a copy of a slice from a DataFrame.\n",
      "Try using .loc[row_indexer,col_indexer] = value instead\n",
      "\n",
      "See the caveats in the documentation: https://pandas.pydata.org/pandas-docs/stable/user_guide/indexing.html#returning-a-view-versus-a-copy\n",
      "  df['release_date'] = pd.to_datetime(df['release_date'])\n"
     ]
    }
   ],
   "source": [
    "df['release_date'] = pd.to_datetime(df['release_date'])"
   ]
  },
  {
   "cell_type": "code",
   "execution_count": 23,
   "metadata": {},
   "outputs": [
    {
     "data": {
      "text/plain": [
       "0     1989-10-12\n",
       "1     1989-12-13\n",
       "2     1989-07-28\n",
       "3     1989-12-20\n",
       "4     1989-04-21\n",
       "         ...    \n",
       "610   2019-05-13\n",
       "611   2019-06-11\n",
       "612   2019-07-13\n",
       "613   2019-07-09\n",
       "614   2019-04-22\n",
       "Name: release_date, Length: 615, dtype: datetime64[ns]"
      ]
     },
     "execution_count": 23,
     "metadata": {},
     "output_type": "execute_result"
    }
   ],
   "source": [
    "df['release_date']"
   ]
  },
  {
   "cell_type": "markdown",
   "metadata": {},
   "source": [
    "# Finding Outliers"
   ]
  },
  {
   "cell_type": "code",
   "execution_count": 24,
   "metadata": {},
   "outputs": [
    {
     "name": "stdout",
     "output_type": "stream",
     "text": [
      "The total amopunt of possible outliers in budget values is: 6\n",
      "The total amopunt of possible outliers in gross values is: 22\n"
     ]
    }
   ],
   "source": [
    "# (data < (Q1 - 1.5 * IQR)) | (data > (Q3 + 1.5 * IQR))\n",
    "\n",
    "outliers_budget = (df['budget'] < (df['budget'].quantile(0.25) - 1.5 * (df['budget'].quantile(0.75) - df['budget'].quantile(0.25)))) | (df['budget'] > (df['budget'].quantile(0.75) + 1.5 * (df['budget'].quantile(0.75) - df['budget'].quantile(0.25))))\n",
    "print(f'The total amopunt of possible outliers in budget values is: {outliers_budget.sum()}')\n",
    "\n",
    "outliers_gross = (df['gross'] < (df['gross'].quantile(0.25) - 1.5 * (df['gross'].quantile(0.75) - df['gross'].quantile(0.25)))) | (df['gross'] > (df['gross'].quantile(0.75) + 1.5 * (df['gross'].quantile(0.75) - df['gross'].quantile(0.25))))\n",
    "print(f'The total amopunt of possible outliers in gross values is: {outliers_gross.sum()}')\n",
    "\n",
    "\n"
   ]
  },
  {
   "cell_type": "markdown",
   "metadata": {},
   "source": [
    "# Show the movies with more than 7 in Rating & greater than 50 million Gross\n",
    "\n",
    "# use Shape()"
   ]
  },
  {
   "cell_type": "code",
   "execution_count": 25,
   "metadata": {},
   "outputs": [
    {
     "data": {
      "text/html": [
       "<div>\n",
       "<style scoped>\n",
       "    .dataframe tbody tr th:only-of-type {\n",
       "        vertical-align: middle;\n",
       "    }\n",
       "\n",
       "    .dataframe tbody tr th {\n",
       "        vertical-align: top;\n",
       "    }\n",
       "\n",
       "    .dataframe thead th {\n",
       "        text-align: right;\n",
       "    }\n",
       "</style>\n",
       "<table border=\"1\" class=\"dataframe\">\n",
       "  <thead>\n",
       "    <tr style=\"text-align: right;\">\n",
       "      <th></th>\n",
       "      <th>title</th>\n",
       "      <th>rating</th>\n",
       "      <th>gross</th>\n",
       "    </tr>\n",
       "  </thead>\n",
       "  <tbody>\n",
       "    <tr>\n",
       "      <th>1</th>\n",
       "      <td>Driving Miss Daisy</td>\n",
       "      <td>7.4</td>\n",
       "      <td>145793296</td>\n",
       "    </tr>\n",
       "    <tr>\n",
       "      <th>2</th>\n",
       "      <td>Turner &amp; Hooch</td>\n",
       "      <td>7.2</td>\n",
       "      <td>71079915</td>\n",
       "    </tr>\n",
       "    <tr>\n",
       "      <th>3</th>\n",
       "      <td>Born on the Fourth of July</td>\n",
       "      <td>7.2</td>\n",
       "      <td>161001698</td>\n",
       "    </tr>\n",
       "    <tr>\n",
       "      <th>4</th>\n",
       "      <td>Field of Dreams</td>\n",
       "      <td>7.5</td>\n",
       "      <td>84431625</td>\n",
       "    </tr>\n",
       "    <tr>\n",
       "      <th>6</th>\n",
       "      <td>When Harry Met Sally...</td>\n",
       "      <td>7.6</td>\n",
       "      <td>92800000</td>\n",
       "    </tr>\n",
       "    <tr>\n",
       "      <th>...</th>\n",
       "      <td>...</td>\n",
       "      <td>...</td>\n",
       "      <td>...</td>\n",
       "    </tr>\n",
       "    <tr>\n",
       "      <th>505</th>\n",
       "      <td>Big Hero 6</td>\n",
       "      <td>7.8</td>\n",
       "      <td>652105443</td>\n",
       "    </tr>\n",
       "    <tr>\n",
       "      <th>506</th>\n",
       "      <td>Interstellar</td>\n",
       "      <td>8.6</td>\n",
       "      <td>675120017</td>\n",
       "    </tr>\n",
       "    <tr>\n",
       "      <th>507</th>\n",
       "      <td>Captain America: The Winter Soldier</td>\n",
       "      <td>7.7</td>\n",
       "      <td>714766572</td>\n",
       "    </tr>\n",
       "    <tr>\n",
       "      <th>508</th>\n",
       "      <td>Dawn of the Planet of the Apes</td>\n",
       "      <td>7.6</td>\n",
       "      <td>710644566</td>\n",
       "    </tr>\n",
       "    <tr>\n",
       "      <th>509</th>\n",
       "      <td>Guardians of the Galaxy</td>\n",
       "      <td>8.0</td>\n",
       "      <td>773328629</td>\n",
       "    </tr>\n",
       "  </tbody>\n",
       "</table>\n",
       "<p>224 rows × 3 columns</p>\n",
       "</div>"
      ],
      "text/plain": [
       "                                   title  rating      gross\n",
       "1                     Driving Miss Daisy     7.4  145793296\n",
       "2                         Turner & Hooch     7.2   71079915\n",
       "3             Born on the Fourth of July     7.2  161001698\n",
       "4                        Field of Dreams     7.5   84431625\n",
       "6                When Harry Met Sally...     7.6   92800000\n",
       "..                                   ...     ...        ...\n",
       "505                           Big Hero 6     7.8  652105443\n",
       "506                         Interstellar     8.6  675120017\n",
       "507  Captain America: The Winter Soldier     7.7  714766572\n",
       "508       Dawn of the Planet of the Apes     7.6  710644566\n",
       "509              Guardians of the Galaxy     8.0  773328629\n",
       "\n",
       "[224 rows x 3 columns]"
      ]
     },
     "execution_count": 25,
     "metadata": {},
     "output_type": "execute_result"
    }
   ],
   "source": [
    "ratingandgross = df[(df['rating'] > 7) & (df['gross'] > 50000000.0)]\n",
    "ratingandgross[['title', 'rating', 'gross']]\n",
    "# print('-----')\n",
    "# ratingandgross.count()"
   ]
  },
  {
   "cell_type": "code",
   "execution_count": 26,
   "metadata": {},
   "outputs": [
    {
     "data": {
      "text/html": [
       "<div>\n",
       "<style scoped>\n",
       "    .dataframe tbody tr th:only-of-type {\n",
       "        vertical-align: middle;\n",
       "    }\n",
       "\n",
       "    .dataframe tbody tr th {\n",
       "        vertical-align: top;\n",
       "    }\n",
       "\n",
       "    .dataframe thead th {\n",
       "        text-align: right;\n",
       "    }\n",
       "</style>\n",
       "<table border=\"1\" class=\"dataframe\">\n",
       "  <thead>\n",
       "    <tr style=\"text-align: right;\">\n",
       "      <th></th>\n",
       "      <th>movie_id</th>\n",
       "      <th>title</th>\n",
       "      <th>mpaa_rating</th>\n",
       "      <th>budget</th>\n",
       "      <th>gross</th>\n",
       "      <th>release_date</th>\n",
       "      <th>genre</th>\n",
       "      <th>runtime</th>\n",
       "      <th>rating</th>\n",
       "      <th>rating_count</th>\n",
       "    </tr>\n",
       "  </thead>\n",
       "  <tbody>\n",
       "    <tr>\n",
       "      <th>0</th>\n",
       "      <td>1</td>\n",
       "      <td>Look Who's Talking</td>\n",
       "      <td>PG-13</td>\n",
       "      <td>7500000</td>\n",
       "      <td>296000000</td>\n",
       "      <td>1989-10-12</td>\n",
       "      <td>Romance</td>\n",
       "      <td>93.0</td>\n",
       "      <td>5.9</td>\n",
       "      <td>73638.0</td>\n",
       "    </tr>\n",
       "    <tr>\n",
       "      <th>1</th>\n",
       "      <td>2</td>\n",
       "      <td>Driving Miss Daisy</td>\n",
       "      <td>PG</td>\n",
       "      <td>7500000</td>\n",
       "      <td>145793296</td>\n",
       "      <td>1989-12-13</td>\n",
       "      <td>Comedy</td>\n",
       "      <td>99.0</td>\n",
       "      <td>7.4</td>\n",
       "      <td>91075.0</td>\n",
       "    </tr>\n",
       "    <tr>\n",
       "      <th>2</th>\n",
       "      <td>3</td>\n",
       "      <td>Turner &amp; Hooch</td>\n",
       "      <td>PG</td>\n",
       "      <td>13000000</td>\n",
       "      <td>71079915</td>\n",
       "      <td>1989-07-28</td>\n",
       "      <td>Crime</td>\n",
       "      <td>100.0</td>\n",
       "      <td>7.2</td>\n",
       "      <td>91415.0</td>\n",
       "    </tr>\n",
       "    <tr>\n",
       "      <th>3</th>\n",
       "      <td>4</td>\n",
       "      <td>Born on the Fourth of July</td>\n",
       "      <td>R</td>\n",
       "      <td>14000000</td>\n",
       "      <td>161001698</td>\n",
       "      <td>1989-12-20</td>\n",
       "      <td>War</td>\n",
       "      <td>145.0</td>\n",
       "      <td>7.2</td>\n",
       "      <td>91415.0</td>\n",
       "    </tr>\n",
       "    <tr>\n",
       "      <th>4</th>\n",
       "      <td>5</td>\n",
       "      <td>Field of Dreams</td>\n",
       "      <td>PG</td>\n",
       "      <td>15000000</td>\n",
       "      <td>84431625</td>\n",
       "      <td>1989-04-21</td>\n",
       "      <td>Drama</td>\n",
       "      <td>107.0</td>\n",
       "      <td>7.5</td>\n",
       "      <td>101702.0</td>\n",
       "    </tr>\n",
       "    <tr>\n",
       "      <th>...</th>\n",
       "      <td>...</td>\n",
       "      <td>...</td>\n",
       "      <td>...</td>\n",
       "      <td>...</td>\n",
       "      <td>...</td>\n",
       "      <td>...</td>\n",
       "      <td>...</td>\n",
       "      <td>...</td>\n",
       "      <td>...</td>\n",
       "      <td>...</td>\n",
       "    </tr>\n",
       "    <tr>\n",
       "      <th>610</th>\n",
       "      <td>611</td>\n",
       "      <td>Godzilla: King of the Monsters</td>\n",
       "      <td>PG-13</td>\n",
       "      <td>200000000</td>\n",
       "      <td>385900000</td>\n",
       "      <td>2019-05-13</td>\n",
       "      <td>Adventure</td>\n",
       "      <td>132.0</td>\n",
       "      <td>6.9</td>\n",
       "      <td>240347.5</td>\n",
       "    </tr>\n",
       "    <tr>\n",
       "      <th>611</th>\n",
       "      <td>612</td>\n",
       "      <td>Toy Story 4</td>\n",
       "      <td>G</td>\n",
       "      <td>200000000</td>\n",
       "      <td>1062000000</td>\n",
       "      <td>2019-06-11</td>\n",
       "      <td>Animation</td>\n",
       "      <td>100.0</td>\n",
       "      <td>6.9</td>\n",
       "      <td>240347.5</td>\n",
       "    </tr>\n",
       "    <tr>\n",
       "      <th>612</th>\n",
       "      <td>613</td>\n",
       "      <td>Fast &amp; Furious Presents: Hobbs &amp; Shaw</td>\n",
       "      <td>PG-13</td>\n",
       "      <td>200000000</td>\n",
       "      <td>759400000</td>\n",
       "      <td>2019-07-13</td>\n",
       "      <td>Thriller</td>\n",
       "      <td>136.0</td>\n",
       "      <td>6.9</td>\n",
       "      <td>240347.5</td>\n",
       "    </tr>\n",
       "    <tr>\n",
       "      <th>613</th>\n",
       "      <td>614</td>\n",
       "      <td>The Lion King</td>\n",
       "      <td>PG</td>\n",
       "      <td>250000000</td>\n",
       "      <td>1632000000</td>\n",
       "      <td>2019-07-09</td>\n",
       "      <td>Drama</td>\n",
       "      <td>118.0</td>\n",
       "      <td>6.9</td>\n",
       "      <td>240347.5</td>\n",
       "    </tr>\n",
       "    <tr>\n",
       "      <th>614</th>\n",
       "      <td>615</td>\n",
       "      <td>Avengers: Endgame</td>\n",
       "      <td>PG-13</td>\n",
       "      <td>356000000</td>\n",
       "      <td>2796000000</td>\n",
       "      <td>2019-04-22</td>\n",
       "      <td>Action</td>\n",
       "      <td>181.0</td>\n",
       "      <td>6.9</td>\n",
       "      <td>240347.5</td>\n",
       "    </tr>\n",
       "  </tbody>\n",
       "</table>\n",
       "<p>615 rows × 10 columns</p>\n",
       "</div>"
      ],
      "text/plain": [
       "     movie_id                                  title mpaa_rating     budget  \\\n",
       "0           1                     Look Who's Talking       PG-13    7500000   \n",
       "1           2                     Driving Miss Daisy          PG    7500000   \n",
       "2           3                         Turner & Hooch          PG   13000000   \n",
       "3           4             Born on the Fourth of July           R   14000000   \n",
       "4           5                        Field of Dreams          PG   15000000   \n",
       "..        ...                                    ...         ...        ...   \n",
       "610       611         Godzilla: King of the Monsters       PG-13  200000000   \n",
       "611       612                            Toy Story 4           G  200000000   \n",
       "612       613  Fast & Furious Presents: Hobbs & Shaw       PG-13  200000000   \n",
       "613       614                          The Lion King          PG  250000000   \n",
       "614       615                      Avengers: Endgame       PG-13  356000000   \n",
       "\n",
       "          gross release_date      genre  runtime  rating  rating_count  \n",
       "0     296000000   1989-10-12    Romance     93.0     5.9       73638.0  \n",
       "1     145793296   1989-12-13     Comedy     99.0     7.4       91075.0  \n",
       "2      71079915   1989-07-28      Crime    100.0     7.2       91415.0  \n",
       "3     161001698   1989-12-20        War    145.0     7.2       91415.0  \n",
       "4      84431625   1989-04-21      Drama    107.0     7.5      101702.0  \n",
       "..          ...          ...        ...      ...     ...           ...  \n",
       "610   385900000   2019-05-13  Adventure    132.0     6.9      240347.5  \n",
       "611  1062000000   2019-06-11  Animation    100.0     6.9      240347.5  \n",
       "612   759400000   2019-07-13   Thriller    136.0     6.9      240347.5  \n",
       "613  1632000000   2019-07-09      Drama    118.0     6.9      240347.5  \n",
       "614  2796000000   2019-04-22     Action    181.0     6.9      240347.5  \n",
       "\n",
       "[615 rows x 10 columns]"
      ]
     },
     "execution_count": 26,
     "metadata": {},
     "output_type": "execute_result"
    }
   ],
   "source": [
    "df.drop_duplicates()"
   ]
  },
  {
   "cell_type": "markdown",
   "metadata": {},
   "source": [
    "# Show the movies with more than 7 in Rating & greater than 50 million Gross & MPAA Rating as PG\n",
    "\n",
    "# Question here !!!!!!!!!"
   ]
  },
  {
   "cell_type": "code",
   "execution_count": 27,
   "metadata": {},
   "outputs": [
    {
     "name": "stdout",
     "output_type": "stream",
     "text": [
      "                                        title  rating       gross mpaa_rating\n",
      "1                          Driving Miss Daisy     7.4   145793296          PG\n",
      "2                              Turner & Hooch     7.2    71079915          PG\n",
      "4                             Field of Dreams     7.5    84431625          PG\n",
      "7                          Dead Poets Society     8.1   235860116          PG\n",
      "13                                     Batman     7.5   411348924          PG\n",
      "15                         The Little Mermaid     7.6   222300000          PG\n",
      "16                 Back to the Future Part II     7.8   332000000          PG\n",
      "19                            Steel Magnolias     7.3    95904091          PG\n",
      "24                                 Home Alone     7.6   476684675          PG\n",
      "32                   The Hunt for Red October     7.6   199200000          PG\n",
      "34                Back to the Future Part III     7.4   244527583          PG\n",
      "45            Teenage Mutant Ninja Turtles II     8.0    78600000          PG\n",
      "46                       Beauty and the Beast     8.0   377350553          PG\n",
      "49     Star Trek VI: The Undiscovered Country     7.2    96900000          PG\n",
      "72                      A League of Their Own     7.2   107458785          PG\n",
      "80                              Groundhog Day     8.0    70906973          PG\n",
      "106                    Star Trek: Generations     8.5   120000000          PG\n",
      "126                        Mr. Holland's Opus     7.3   106269971          PG\n",
      "130                                 Apollo 13     7.6   355237933          PG\n",
      "174                                   Contact     7.4   171120329          PG\n",
      "185                           The Truman Show     8.1   264118201          PG\n",
      "188                       The Prince of Egypt     7.1   218613188          PG\n",
      "215                                    Tarzan     7.3   448000000          PG\n",
      "220                       Remember the Titans     7.8   136706683          PG\n",
      "241                                     Shrek     7.8   484409218          PG\n",
      "255     Harry Potter and the Sorcerer's Stone     7.6   975100000          PG\n",
      "261                                   Ice Age     7.5   383257136          PG\n",
      "270   Harry Potter and the Chamber of Secrets     7.4   876688482          PG\n",
      "304                           The Incredibles     8.0   631442092          PG\n",
      "309  Harry Potter and the Prisoner of Azkaban     7.9   789804554          PG\n",
      "311                                   Shrek 2     7.2   919838758          PG\n",
      "385                             Kung Fu Panda     7.5   631744560          PG\n",
      "410                        Monsters vs Aliens     7.7   381509870          PG\n",
      "411                                        Up     8.2   735099082          PG\n",
      "415    Harry Potter and the Half-Blood Prince     7.6   933959197          PG\n",
      "420                             Despicable Me     7.6   543513985          PG\n",
      "425                                  Megamind     7.2   321887208          PG\n",
      "428                  How to Train Your Dragon     8.1   494878759          PG\n",
      "435                                   Tangled     7.7   591794936          PG\n",
      "447          Puss in Boots: The Three Diablos     7.8   555000000          PG\n",
      "451                           Kung Fu Panda 2     7.2   665692281          PG\n",
      "461                        Hotel Transylvania     7.1   358375603          PG\n",
      "466                            Wreck-It Ralph     7.7   471222889          PG\n",
      "468                                     Brave     7.1   538983207          PG\n",
      "480                           Despicable Me 2     7.4   970761885          PG\n",
      "484                                The Croods     7.2   585178928          PG\n",
      "485                                    Frozen     7.5  1274219009          PG\n",
      "498                            The Lego Movie     7.8   469160692          PG\n",
      "503                How to Train Your Dragon 2     7.8   609123048          PG\n",
      "505                                Big Hero 6     7.8   652105443          PG\n",
      "-----\n",
      "There are movie_id        50\n",
      "title           50\n",
      "mpaa_rating     50\n",
      "budget          50\n",
      "gross           50\n",
      "release_date    50\n",
      "genre           50\n",
      "runtime         50\n",
      "rating          50\n",
      "rating_count    50\n",
      "dtype: int64 movies with 50 million gross and more than 7 MPAA Rating.\n"
     ]
    }
   ],
   "source": [
    "ratingandgrossandMPAA = df[(df['rating'] > 7) & (df['gross'] > 50000000.0) & (df['mpaa_rating'] == 'PG')]\n",
    "print(ratingandgrossandMPAA[['title', 'rating', 'gross', 'mpaa_rating']])\n",
    "print('-----')\n",
    "print(f'There are {ratingandgrossandMPAA.count()} movies with 50 million gross and more than 7 MPAA Rating.')"
   ]
  },
  {
   "cell_type": "markdown",
   "metadata": {},
   "source": [
    "# Show the count of Animation movies with more than 7 in Rating (use the shape() method)\n",
    "\n"
   ]
  },
  {
   "cell_type": "code",
   "execution_count": 28,
   "metadata": {},
   "outputs": [
    {
     "name": "stdout",
     "output_type": "stream",
     "text": [
      "The count of animation movies is 39\n"
     ]
    }
   ],
   "source": [
    "hello = df[((df['genre'] == 'Animation') & (df['rating'] > 7))]\n",
    "print(f'The count of animation movies is {hello.shape[0]}')\n"
   ]
  },
  {
   "cell_type": "markdown",
   "metadata": {},
   "source": [
    "# Show the top 5 movies based on Budget"
   ]
  },
  {
   "cell_type": "code",
   "execution_count": 29,
   "metadata": {},
   "outputs": [
    {
     "data": {
      "text/html": [
       "<div>\n",
       "<style scoped>\n",
       "    .dataframe tbody tr th:only-of-type {\n",
       "        vertical-align: middle;\n",
       "    }\n",
       "\n",
       "    .dataframe tbody tr th {\n",
       "        vertical-align: top;\n",
       "    }\n",
       "\n",
       "    .dataframe thead th {\n",
       "        text-align: right;\n",
       "    }\n",
       "</style>\n",
       "<table border=\"1\" class=\"dataframe\">\n",
       "  <thead>\n",
       "    <tr style=\"text-align: right;\">\n",
       "      <th></th>\n",
       "      <th>movie_id</th>\n",
       "      <th>title</th>\n",
       "      <th>mpaa_rating</th>\n",
       "      <th>budget</th>\n",
       "      <th>gross</th>\n",
       "      <th>release_date</th>\n",
       "      <th>genre</th>\n",
       "      <th>runtime</th>\n",
       "      <th>rating</th>\n",
       "      <th>rating_count</th>\n",
       "    </tr>\n",
       "  </thead>\n",
       "  <tbody>\n",
       "    <tr>\n",
       "      <th>594</th>\n",
       "      <td>595</td>\n",
       "      <td>Avengers: Infinity War</td>\n",
       "      <td>PG-13</td>\n",
       "      <td>400000000</td>\n",
       "      <td>2048000000</td>\n",
       "      <td>2018-04-23</td>\n",
       "      <td>Action</td>\n",
       "      <td>149.0</td>\n",
       "      <td>6.9</td>\n",
       "      <td>240347.5</td>\n",
       "    </tr>\n",
       "    <tr>\n",
       "      <th>454</th>\n",
       "      <td>455</td>\n",
       "      <td>Pirates of the Caribbean: On Stranger Tides</td>\n",
       "      <td>PG-13</td>\n",
       "      <td>380000000</td>\n",
       "      <td>1045713802</td>\n",
       "      <td>2011-05-14</td>\n",
       "      <td>Action</td>\n",
       "      <td>136.0</td>\n",
       "      <td>6.6</td>\n",
       "      <td>455211.0</td>\n",
       "    </tr>\n",
       "    <tr>\n",
       "      <th>614</th>\n",
       "      <td>615</td>\n",
       "      <td>Avengers: Endgame</td>\n",
       "      <td>PG-13</td>\n",
       "      <td>356000000</td>\n",
       "      <td>2796000000</td>\n",
       "      <td>2019-04-22</td>\n",
       "      <td>Action</td>\n",
       "      <td>181.0</td>\n",
       "      <td>6.9</td>\n",
       "      <td>240347.5</td>\n",
       "    </tr>\n",
       "    <tr>\n",
       "      <th>574</th>\n",
       "      <td>575</td>\n",
       "      <td>Star Wars: The Last Jedi</td>\n",
       "      <td>PG-13</td>\n",
       "      <td>317000000</td>\n",
       "      <td>1333000000</td>\n",
       "      <td>2019-12-09</td>\n",
       "      <td>Science Fiction</td>\n",
       "      <td>152.0</td>\n",
       "      <td>6.9</td>\n",
       "      <td>240347.5</td>\n",
       "    </tr>\n",
       "    <tr>\n",
       "      <th>375</th>\n",
       "      <td>376</td>\n",
       "      <td>Pirates of the Caribbean: At World's End</td>\n",
       "      <td>PG-13</td>\n",
       "      <td>300000000</td>\n",
       "      <td>961000000</td>\n",
       "      <td>2007-05-19</td>\n",
       "      <td>Adventure</td>\n",
       "      <td>169.0</td>\n",
       "      <td>7.1</td>\n",
       "      <td>565402.0</td>\n",
       "    </tr>\n",
       "  </tbody>\n",
       "</table>\n",
       "</div>"
      ],
      "text/plain": [
       "     movie_id                                        title mpaa_rating  \\\n",
       "594       595                       Avengers: Infinity War       PG-13   \n",
       "454       455  Pirates of the Caribbean: On Stranger Tides       PG-13   \n",
       "614       615                            Avengers: Endgame       PG-13   \n",
       "574       575                     Star Wars: The Last Jedi       PG-13   \n",
       "375       376     Pirates of the Caribbean: At World's End       PG-13   \n",
       "\n",
       "        budget       gross release_date            genre  runtime  rating  \\\n",
       "594  400000000  2048000000   2018-04-23           Action    149.0     6.9   \n",
       "454  380000000  1045713802   2011-05-14           Action    136.0     6.6   \n",
       "614  356000000  2796000000   2019-04-22           Action    181.0     6.9   \n",
       "574  317000000  1333000000   2019-12-09  Science Fiction    152.0     6.9   \n",
       "375  300000000   961000000   2007-05-19        Adventure    169.0     7.1   \n",
       "\n",
       "     rating_count  \n",
       "594      240347.5  \n",
       "454      455211.0  \n",
       "614      240347.5  \n",
       "574      240347.5  \n",
       "375      565402.0  "
      ]
     },
     "execution_count": 29,
     "metadata": {},
     "output_type": "execute_result"
    }
   ],
   "source": [
    "df.sort_values('budget', ascending=False).head(5)\n",
    "\n",
    "# or \n",
    "\n",
    "df.nlargest(5, 'budget')"
   ]
  },
  {
   "cell_type": "markdown",
   "metadata": {},
   "source": [
    "# Show the top 5 Comedy movies by Rating\n",
    "\n"
   ]
  },
  {
   "cell_type": "code",
   "execution_count": 30,
   "metadata": {},
   "outputs": [
    {
     "data": {
      "text/html": [
       "<div>\n",
       "<style scoped>\n",
       "    .dataframe tbody tr th:only-of-type {\n",
       "        vertical-align: middle;\n",
       "    }\n",
       "\n",
       "    .dataframe tbody tr th {\n",
       "        vertical-align: top;\n",
       "    }\n",
       "\n",
       "    .dataframe thead th {\n",
       "        text-align: right;\n",
       "    }\n",
       "</style>\n",
       "<table border=\"1\" class=\"dataframe\">\n",
       "  <thead>\n",
       "    <tr style=\"text-align: right;\">\n",
       "      <th></th>\n",
       "      <th>movie_id</th>\n",
       "      <th>title</th>\n",
       "      <th>mpaa_rating</th>\n",
       "      <th>budget</th>\n",
       "      <th>gross</th>\n",
       "      <th>release_date</th>\n",
       "      <th>genre</th>\n",
       "      <th>runtime</th>\n",
       "      <th>rating</th>\n",
       "      <th>rating_count</th>\n",
       "    </tr>\n",
       "  </thead>\n",
       "  <tbody>\n",
       "    <tr>\n",
       "      <th>393</th>\n",
       "      <td>394</td>\n",
       "      <td>The Dark Knight</td>\n",
       "      <td>PG-13</td>\n",
       "      <td>185000000</td>\n",
       "      <td>1004558444</td>\n",
       "      <td>2008-07-16</td>\n",
       "      <td>Action</td>\n",
       "      <td>152.0</td>\n",
       "      <td>9.0</td>\n",
       "      <td>2127228.0</td>\n",
       "    </tr>\n",
       "    <tr>\n",
       "      <th>83</th>\n",
       "      <td>84</td>\n",
       "      <td>Schindler's List</td>\n",
       "      <td>R</td>\n",
       "      <td>22000000</td>\n",
       "      <td>321365567</td>\n",
       "      <td>1993-11-29</td>\n",
       "      <td>History</td>\n",
       "      <td>195.0</td>\n",
       "      <td>8.9</td>\n",
       "      <td>1117322.0</td>\n",
       "    </tr>\n",
       "    <tr>\n",
       "      <th>98</th>\n",
       "      <td>99</td>\n",
       "      <td>Jurassic Park III</td>\n",
       "      <td>PG-13</td>\n",
       "      <td>93000000</td>\n",
       "      <td>368800000</td>\n",
       "      <td>2001-07-16</td>\n",
       "      <td>Thriller</td>\n",
       "      <td>92.0</td>\n",
       "      <td>8.9</td>\n",
       "      <td>1690474.0</td>\n",
       "    </tr>\n",
       "    <tr>\n",
       "      <th>99</th>\n",
       "      <td>100</td>\n",
       "      <td>Pulp Fiction</td>\n",
       "      <td>R</td>\n",
       "      <td>8000000</td>\n",
       "      <td>213928762</td>\n",
       "      <td>1994-09-10</td>\n",
       "      <td>Thriller</td>\n",
       "      <td>154.0</td>\n",
       "      <td>8.9</td>\n",
       "      <td>1690474.0</td>\n",
       "    </tr>\n",
       "    <tr>\n",
       "      <th>287</th>\n",
       "      <td>288</td>\n",
       "      <td>The Lord of the Rings: The Return of the King</td>\n",
       "      <td>PG-13</td>\n",
       "      <td>94000000</td>\n",
       "      <td>1118888979</td>\n",
       "      <td>2003-12-01</td>\n",
       "      <td>Fantasy</td>\n",
       "      <td>201.0</td>\n",
       "      <td>8.9</td>\n",
       "      <td>1529953.0</td>\n",
       "    </tr>\n",
       "  </tbody>\n",
       "</table>\n",
       "</div>"
      ],
      "text/plain": [
       "     movie_id                                          title mpaa_rating  \\\n",
       "393       394                                The Dark Knight       PG-13   \n",
       "83         84                               Schindler's List           R   \n",
       "98         99                              Jurassic Park III       PG-13   \n",
       "99        100                                   Pulp Fiction           R   \n",
       "287       288  The Lord of the Rings: The Return of the King       PG-13   \n",
       "\n",
       "        budget       gross release_date     genre  runtime  rating  \\\n",
       "393  185000000  1004558444   2008-07-16    Action    152.0     9.0   \n",
       "83    22000000   321365567   1993-11-29   History    195.0     8.9   \n",
       "98    93000000   368800000   2001-07-16  Thriller     92.0     8.9   \n",
       "99     8000000   213928762   1994-09-10  Thriller    154.0     8.9   \n",
       "287   94000000  1118888979   2003-12-01   Fantasy    201.0     8.9   \n",
       "\n",
       "     rating_count  \n",
       "393     2127228.0  \n",
       "83      1117322.0  \n",
       "98      1690474.0  \n",
       "99      1690474.0  \n",
       "287     1529953.0  "
      ]
     },
     "execution_count": 30,
     "metadata": {},
     "output_type": "execute_result"
    }
   ],
   "source": [
    "# csv.sort_values('Budget', ascending=False).head(5)\n",
    "\n",
    "# csv[('Genre' == 'Comedy')].sort_values('Rating', ascending=False)\n",
    "\n",
    "#csv_new = csv.sort_values('Rating', ascending=False)\n",
    "#csv_new[('Genre' == 'Comedy')]\n",
    "\n",
    "#csv_new = csv[('Genre' == 'Comedy')].sort_values(['Genre', 'Rating'], ascending=False)\n",
    "#csv_new.head(20)\n",
    "\n",
    "\n",
    "# Reference csv[((csv['Genre'] == 'Animation') & (csv['Rating'] > 7))].count()\n",
    "\n",
    "\n",
    "df_new = df[(df['genre'] == 'comedy')].sort_values(['genre', 'rating'], ascending=False)\n",
    "df_new[['title', 'genre', 'rating']].head(5)\n",
    "\n",
    "# or \n",
    "\n",
    "df.nlargest(5, 'rating')"
   ]
  },
  {
   "cell_type": "markdown",
   "metadata": {},
   "source": [
    "# Top 5 movie names by Rating\n",
    "\n"
   ]
  },
  {
   "cell_type": "code",
   "execution_count": 31,
   "metadata": {},
   "outputs": [
    {
     "data": {
      "text/html": [
       "<div>\n",
       "<style scoped>\n",
       "    .dataframe tbody tr th:only-of-type {\n",
       "        vertical-align: middle;\n",
       "    }\n",
       "\n",
       "    .dataframe tbody tr th {\n",
       "        vertical-align: top;\n",
       "    }\n",
       "\n",
       "    .dataframe thead th {\n",
       "        text-align: right;\n",
       "    }\n",
       "</style>\n",
       "<table border=\"1\" class=\"dataframe\">\n",
       "  <thead>\n",
       "    <tr style=\"text-align: right;\">\n",
       "      <th></th>\n",
       "      <th>title</th>\n",
       "      <th>rating</th>\n",
       "    </tr>\n",
       "  </thead>\n",
       "  <tbody>\n",
       "    <tr>\n",
       "      <th>393</th>\n",
       "      <td>The Dark Knight</td>\n",
       "      <td>9.0</td>\n",
       "    </tr>\n",
       "    <tr>\n",
       "      <th>83</th>\n",
       "      <td>Schindler's List</td>\n",
       "      <td>8.9</td>\n",
       "    </tr>\n",
       "    <tr>\n",
       "      <th>287</th>\n",
       "      <td>The Lord of the Rings: The Return of the King</td>\n",
       "      <td>8.9</td>\n",
       "    </tr>\n",
       "    <tr>\n",
       "      <th>99</th>\n",
       "      <td>Pulp Fiction</td>\n",
       "      <td>8.9</td>\n",
       "    </tr>\n",
       "    <tr>\n",
       "      <th>98</th>\n",
       "      <td>Jurassic Park III</td>\n",
       "      <td>8.9</td>\n",
       "    </tr>\n",
       "  </tbody>\n",
       "</table>\n",
       "</div>"
      ],
      "text/plain": [
       "                                             title  rating\n",
       "393                                The Dark Knight     9.0\n",
       "83                                Schindler's List     8.9\n",
       "287  The Lord of the Rings: The Return of the King     8.9\n",
       "99                                    Pulp Fiction     8.9\n",
       "98                               Jurassic Park III     8.9"
      ]
     },
     "execution_count": 31,
     "metadata": {},
     "output_type": "execute_result"
    }
   ],
   "source": [
    "df_new2 = df.sort_values('rating', ascending=False)\n",
    "df_new2[['title', 'rating']].head()"
   ]
  },
  {
   "cell_type": "markdown",
   "metadata": {},
   "source": [
    "# Top 3 high Gross Romance movies released after 1999 (typecast it to datetime)\n",
    "\n"
   ]
  },
  {
   "cell_type": "code",
   "execution_count": 32,
   "metadata": {},
   "outputs": [
    {
     "ename": "KeyError",
     "evalue": "False",
     "output_type": "error",
     "traceback": [
      "\u001b[0;31m---------------------------------------------------------------------------\u001b[0m",
      "\u001b[0;31mKeyError\u001b[0m                                  Traceback (most recent call last)",
      "File \u001b[0;32m/opt/anaconda3/envs/MarcosPython10/lib/python3.10/site-packages/pandas/core/indexes/base.py:3812\u001b[0m, in \u001b[0;36mIndex.get_loc\u001b[0;34m(self, key)\u001b[0m\n\u001b[1;32m   3811\u001b[0m \u001b[38;5;28;01mtry\u001b[39;00m:\n\u001b[0;32m-> 3812\u001b[0m     \u001b[38;5;28;01mreturn\u001b[39;00m \u001b[38;5;28;43mself\u001b[39;49m\u001b[38;5;241;43m.\u001b[39;49m\u001b[43m_engine\u001b[49m\u001b[38;5;241;43m.\u001b[39;49m\u001b[43mget_loc\u001b[49m\u001b[43m(\u001b[49m\u001b[43mcasted_key\u001b[49m\u001b[43m)\u001b[49m\n\u001b[1;32m   3813\u001b[0m \u001b[38;5;28;01mexcept\u001b[39;00m \u001b[38;5;167;01mKeyError\u001b[39;00m \u001b[38;5;28;01mas\u001b[39;00m err:\n",
      "File \u001b[0;32mpandas/_libs/index.pyx:167\u001b[0m, in \u001b[0;36mpandas._libs.index.IndexEngine.get_loc\u001b[0;34m()\u001b[0m\n",
      "File \u001b[0;32mpandas/_libs/index.pyx:196\u001b[0m, in \u001b[0;36mpandas._libs.index.IndexEngine.get_loc\u001b[0;34m()\u001b[0m\n",
      "File \u001b[0;32mpandas/_libs/hashtable_class_helper.pxi:7088\u001b[0m, in \u001b[0;36mpandas._libs.hashtable.PyObjectHashTable.get_item\u001b[0;34m()\u001b[0m\n",
      "File \u001b[0;32mpandas/_libs/hashtable_class_helper.pxi:7096\u001b[0m, in \u001b[0;36mpandas._libs.hashtable.PyObjectHashTable.get_item\u001b[0;34m()\u001b[0m\n",
      "\u001b[0;31mKeyError\u001b[0m: False",
      "\nThe above exception was the direct cause of the following exception:\n",
      "\u001b[0;31mKeyError\u001b[0m                                  Traceback (most recent call last)",
      "Cell \u001b[0;32mIn[32], line 11\u001b[0m\n\u001b[1;32m      1\u001b[0m \u001b[38;5;66;03m# df[df['release_date'] > datetime.date(1999)]\u001b[39;00m\n\u001b[1;32m      2\u001b[0m \n\u001b[1;32m      3\u001b[0m \u001b[38;5;66;03m# date1999 = df[df['release_date'].dt.year > 1999]\u001b[39;00m\n\u001b[0;32m   (...)\u001b[0m\n\u001b[1;32m      8\u001b[0m \n\u001b[1;32m      9\u001b[0m \u001b[38;5;66;03m# or \u001b[39;00m\n\u001b[0;32m---> 11\u001b[0m \u001b[43mdf\u001b[49m\u001b[38;5;241;43m.\u001b[39;49m\u001b[43mnlargest\u001b[49m\u001b[43m(\u001b[49m\u001b[38;5;241;43m5\u001b[39;49m\u001b[43m,\u001b[49m\u001b[43m \u001b[49m\u001b[43m(\u001b[49m\u001b[43mdf\u001b[49m\u001b[43m[\u001b[49m\u001b[38;5;124;43m'\u001b[39;49m\u001b[38;5;124;43mrelease_date\u001b[39;49m\u001b[38;5;124;43m'\u001b[39;49m\u001b[43m]\u001b[49m\u001b[38;5;241;43m.\u001b[39;49m\u001b[43mdt\u001b[49m\u001b[38;5;241;43m.\u001b[39;49m\u001b[43myear\u001b[49m\u001b[43m \u001b[49m\u001b[38;5;241;43m>\u001b[39;49m\u001b[43m \u001b[49m\u001b[38;5;241;43m1999\u001b[39;49m\u001b[43m)\u001b[49m\u001b[43m)\u001b[49m\n",
      "File \u001b[0;32m/opt/anaconda3/envs/MarcosPython10/lib/python3.10/site-packages/pandas/core/frame.py:7651\u001b[0m, in \u001b[0;36mDataFrame.nlargest\u001b[0;34m(self, n, columns, keep)\u001b[0m\n\u001b[1;32m   7532\u001b[0m \u001b[38;5;28;01mdef\u001b[39;00m\u001b[38;5;250m \u001b[39m\u001b[38;5;21mnlargest\u001b[39m(\n\u001b[1;32m   7533\u001b[0m     \u001b[38;5;28mself\u001b[39m, n: \u001b[38;5;28mint\u001b[39m, columns: IndexLabel, keep: NsmallestNlargestKeep \u001b[38;5;241m=\u001b[39m \u001b[38;5;124m\"\u001b[39m\u001b[38;5;124mfirst\u001b[39m\u001b[38;5;124m\"\u001b[39m\n\u001b[1;32m   7534\u001b[0m ) \u001b[38;5;241m-\u001b[39m\u001b[38;5;241m>\u001b[39m DataFrame:\n\u001b[1;32m   7535\u001b[0m \u001b[38;5;250m    \u001b[39m\u001b[38;5;124;03m\"\"\"\u001b[39;00m\n\u001b[1;32m   7536\u001b[0m \u001b[38;5;124;03m    Return the first `n` rows ordered by `columns` in descending order.\u001b[39;00m\n\u001b[1;32m   7537\u001b[0m \n\u001b[0;32m   (...)\u001b[0m\n\u001b[1;32m   7649\u001b[0m \u001b[38;5;124;03m    Brunei      434000    12128      BN\u001b[39;00m\n\u001b[1;32m   7650\u001b[0m \u001b[38;5;124;03m    \"\"\"\u001b[39;00m\n\u001b[0;32m-> 7651\u001b[0m     \u001b[38;5;28;01mreturn\u001b[39;00m \u001b[43mselectn\u001b[49m\u001b[38;5;241;43m.\u001b[39;49m\u001b[43mSelectNFrame\u001b[49m\u001b[43m(\u001b[49m\u001b[38;5;28;43mself\u001b[39;49m\u001b[43m,\u001b[49m\u001b[43m \u001b[49m\u001b[43mn\u001b[49m\u001b[38;5;241;43m=\u001b[39;49m\u001b[43mn\u001b[49m\u001b[43m,\u001b[49m\u001b[43m \u001b[49m\u001b[43mkeep\u001b[49m\u001b[38;5;241;43m=\u001b[39;49m\u001b[43mkeep\u001b[49m\u001b[43m,\u001b[49m\u001b[43m \u001b[49m\u001b[43mcolumns\u001b[49m\u001b[38;5;241;43m=\u001b[39;49m\u001b[43mcolumns\u001b[49m\u001b[43m)\u001b[49m\u001b[38;5;241;43m.\u001b[39;49m\u001b[43mnlargest\u001b[49m\u001b[43m(\u001b[49m\u001b[43m)\u001b[49m\n",
      "File \u001b[0;32m/opt/anaconda3/envs/MarcosPython10/lib/python3.10/site-packages/pandas/core/methods/selectn.py:57\u001b[0m, in \u001b[0;36mSelectN.nlargest\u001b[0;34m(self)\u001b[0m\n\u001b[1;32m     55\u001b[0m \u001b[38;5;129m@final\u001b[39m\n\u001b[1;32m     56\u001b[0m \u001b[38;5;28;01mdef\u001b[39;00m\u001b[38;5;250m \u001b[39m\u001b[38;5;21mnlargest\u001b[39m(\u001b[38;5;28mself\u001b[39m):\n\u001b[0;32m---> 57\u001b[0m     \u001b[38;5;28;01mreturn\u001b[39;00m \u001b[38;5;28;43mself\u001b[39;49m\u001b[38;5;241;43m.\u001b[39;49m\u001b[43mcompute\u001b[49m\u001b[43m(\u001b[49m\u001b[38;5;124;43m\"\u001b[39;49m\u001b[38;5;124;43mnlargest\u001b[39;49m\u001b[38;5;124;43m\"\u001b[39;49m\u001b[43m)\u001b[49m\n",
      "File \u001b[0;32m/opt/anaconda3/envs/MarcosPython10/lib/python3.10/site-packages/pandas/core/methods/selectn.py:199\u001b[0m, in \u001b[0;36mSelectNFrame.compute\u001b[0;34m(self, method)\u001b[0m\n\u001b[1;32m    196\u001b[0m columns \u001b[38;5;241m=\u001b[39m \u001b[38;5;28mself\u001b[39m\u001b[38;5;241m.\u001b[39mcolumns\n\u001b[1;32m    198\u001b[0m \u001b[38;5;28;01mfor\u001b[39;00m column \u001b[38;5;129;01min\u001b[39;00m columns:\n\u001b[0;32m--> 199\u001b[0m     dtype \u001b[38;5;241m=\u001b[39m \u001b[43mframe\u001b[49m\u001b[43m[\u001b[49m\u001b[43mcolumn\u001b[49m\u001b[43m]\u001b[49m\u001b[38;5;241m.\u001b[39mdtype\n\u001b[1;32m    200\u001b[0m     \u001b[38;5;28;01mif\u001b[39;00m \u001b[38;5;129;01mnot\u001b[39;00m \u001b[38;5;28mself\u001b[39m\u001b[38;5;241m.\u001b[39mis_valid_dtype_n_method(dtype):\n\u001b[1;32m    201\u001b[0m         \u001b[38;5;28;01mraise\u001b[39;00m \u001b[38;5;167;01mTypeError\u001b[39;00m(\n\u001b[1;32m    202\u001b[0m             \u001b[38;5;124mf\u001b[39m\u001b[38;5;124m\"\u001b[39m\u001b[38;5;124mColumn \u001b[39m\u001b[38;5;132;01m{\u001b[39;00m\u001b[38;5;28mrepr\u001b[39m(column)\u001b[38;5;132;01m}\u001b[39;00m\u001b[38;5;124m has dtype \u001b[39m\u001b[38;5;132;01m{\u001b[39;00mdtype\u001b[38;5;132;01m}\u001b[39;00m\u001b[38;5;124m, \u001b[39m\u001b[38;5;124m\"\u001b[39m\n\u001b[1;32m    203\u001b[0m             \u001b[38;5;124mf\u001b[39m\u001b[38;5;124m\"\u001b[39m\u001b[38;5;124mcannot use method \u001b[39m\u001b[38;5;132;01m{\u001b[39;00m\u001b[38;5;28mrepr\u001b[39m(method)\u001b[38;5;132;01m}\u001b[39;00m\u001b[38;5;124m with this dtype\u001b[39m\u001b[38;5;124m\"\u001b[39m\n\u001b[1;32m    204\u001b[0m         )\n",
      "File \u001b[0;32m/opt/anaconda3/envs/MarcosPython10/lib/python3.10/site-packages/pandas/core/frame.py:4107\u001b[0m, in \u001b[0;36mDataFrame.__getitem__\u001b[0;34m(self, key)\u001b[0m\n\u001b[1;32m   4105\u001b[0m \u001b[38;5;28;01mif\u001b[39;00m \u001b[38;5;28mself\u001b[39m\u001b[38;5;241m.\u001b[39mcolumns\u001b[38;5;241m.\u001b[39mnlevels \u001b[38;5;241m>\u001b[39m \u001b[38;5;241m1\u001b[39m:\n\u001b[1;32m   4106\u001b[0m     \u001b[38;5;28;01mreturn\u001b[39;00m \u001b[38;5;28mself\u001b[39m\u001b[38;5;241m.\u001b[39m_getitem_multilevel(key)\n\u001b[0;32m-> 4107\u001b[0m indexer \u001b[38;5;241m=\u001b[39m \u001b[38;5;28;43mself\u001b[39;49m\u001b[38;5;241;43m.\u001b[39;49m\u001b[43mcolumns\u001b[49m\u001b[38;5;241;43m.\u001b[39;49m\u001b[43mget_loc\u001b[49m\u001b[43m(\u001b[49m\u001b[43mkey\u001b[49m\u001b[43m)\u001b[49m\n\u001b[1;32m   4108\u001b[0m \u001b[38;5;28;01mif\u001b[39;00m is_integer(indexer):\n\u001b[1;32m   4109\u001b[0m     indexer \u001b[38;5;241m=\u001b[39m [indexer]\n",
      "File \u001b[0;32m/opt/anaconda3/envs/MarcosPython10/lib/python3.10/site-packages/pandas/core/indexes/base.py:3819\u001b[0m, in \u001b[0;36mIndex.get_loc\u001b[0;34m(self, key)\u001b[0m\n\u001b[1;32m   3814\u001b[0m     \u001b[38;5;28;01mif\u001b[39;00m \u001b[38;5;28misinstance\u001b[39m(casted_key, \u001b[38;5;28mslice\u001b[39m) \u001b[38;5;129;01mor\u001b[39;00m (\n\u001b[1;32m   3815\u001b[0m         \u001b[38;5;28misinstance\u001b[39m(casted_key, abc\u001b[38;5;241m.\u001b[39mIterable)\n\u001b[1;32m   3816\u001b[0m         \u001b[38;5;129;01mand\u001b[39;00m \u001b[38;5;28many\u001b[39m(\u001b[38;5;28misinstance\u001b[39m(x, \u001b[38;5;28mslice\u001b[39m) \u001b[38;5;28;01mfor\u001b[39;00m x \u001b[38;5;129;01min\u001b[39;00m casted_key)\n\u001b[1;32m   3817\u001b[0m     ):\n\u001b[1;32m   3818\u001b[0m         \u001b[38;5;28;01mraise\u001b[39;00m InvalidIndexError(key)\n\u001b[0;32m-> 3819\u001b[0m     \u001b[38;5;28;01mraise\u001b[39;00m \u001b[38;5;167;01mKeyError\u001b[39;00m(key) \u001b[38;5;28;01mfrom\u001b[39;00m\u001b[38;5;250m \u001b[39m\u001b[38;5;21;01merr\u001b[39;00m\n\u001b[1;32m   3820\u001b[0m \u001b[38;5;28;01mexcept\u001b[39;00m \u001b[38;5;167;01mTypeError\u001b[39;00m:\n\u001b[1;32m   3821\u001b[0m     \u001b[38;5;66;03m# If we have a listlike key, _check_indexing_error will raise\u001b[39;00m\n\u001b[1;32m   3822\u001b[0m     \u001b[38;5;66;03m#  InvalidIndexError. Otherwise we fall through and re-raise\u001b[39;00m\n\u001b[1;32m   3823\u001b[0m     \u001b[38;5;66;03m#  the TypeError.\u001b[39;00m\n\u001b[1;32m   3824\u001b[0m     \u001b[38;5;28mself\u001b[39m\u001b[38;5;241m.\u001b[39m_check_indexing_error(key)\n",
      "\u001b[0;31mKeyError\u001b[0m: False"
     ]
    }
   ],
   "source": [
    "\n",
    "# df[df['release_date'] > datetime.date(1999)]\n",
    "\n",
    "# date1999 = df[df['release_date'].dt.year > 1999]\n",
    "# date1999 = date1999[['title', 'release_date', 'budget']].sort_values('release_date', ascending=True)\n",
    "# print(date1999.head(50))\n",
    "# print('---------')\n",
    "# print(f' The latest release is: {date1999.max()}')\n",
    "\n",
    "# or \n",
    "\n",
    "df.nlargest(5, (df['release_date'].dt.year > 1999))\n",
    "\n"
   ]
  },
  {
   "cell_type": "markdown",
   "metadata": {},
   "source": [
    "# 8 How many of each Genre are present in the DataFrame? (use value_counts() method which applies to Series, not DataFrame)\n",
    "\n"
   ]
  },
  {
   "cell_type": "code",
   "execution_count": null,
   "metadata": {},
   "outputs": [
    {
     "name": "stdout",
     "output_type": "stream",
     "text": [
      "Genre\n",
      "Action             110\n",
      "Comedy              99\n",
      "Animation           87\n",
      "Drama               66\n",
      "Thriller            41\n",
      "Science Fiction     37\n",
      "Adventure           30\n",
      "Family              29\n",
      "Romance             28\n",
      "Fantasy             27\n",
      "Crime               17\n",
      "Horror              14\n",
      "Mystery             11\n",
      "War                  9\n",
      "Western              6\n",
      "History              4\n",
      "Name: count, dtype: int64\n"
     ]
    }
   ],
   "source": [
    "print(csv['Genre'].value_counts())"
   ]
  },
  {
   "cell_type": "markdown",
   "metadata": {},
   "source": [
    "# 9 Top 5 most expensive movies released after 1999 (measured by Budget)\n",
    "\n"
   ]
  },
  {
   "cell_type": "code",
   "execution_count": null,
   "metadata": {},
   "outputs": [
    {
     "name": "stdout",
     "output_type": "stream",
     "text": [
      "                                           title release_date     budget\n",
      "594                       Avengers: Infinity War   2018-04-23  400000000\n",
      "454  Pirates of the Caribbean: On Stranger Tides   2011-05-14  380000000\n",
      "614                            Avengers: Endgame   2019-04-22  356000000\n",
      "574                     Star Wars: The Last Jedi   2019-12-09  317000000\n",
      "573                               Justice League   2017-11-15  300000000\n"
     ]
    }
   ],
   "source": [
    "date1999_budget = date1999[['title', 'release_date', 'budget']].sort_values('budget', ascending=False)\n",
    "print(date1999_budget.head(5))\n"
   ]
  },
  {
   "cell_type": "markdown",
   "metadata": {},
   "source": [
    "# 10 -  Most & least frequent MPAA Rating in the dataset in terms of occurrences\n",
    "\n"
   ]
  },
  {
   "cell_type": "code",
   "execution_count": 39,
   "metadata": {},
   "outputs": [
    {
     "name": "stdout",
     "output_type": "stream",
     "text": [
      "mpaa_rating\n",
      "PG-13    285\n",
      "PG       161\n",
      "R        142\n",
      "G         27\n",
      "Name: count, dtype: int64\n",
      "--------\n",
      " Most frequent MPAA Rating is PG-13\n",
      " Less frequent MPAA Rating is G\n",
      "--------\n",
      "--------\n"
     ]
    }
   ],
   "source": [
    "csv_rating_count = df['mpaa_rating'].value_counts()\n",
    "print(csv_rating_count)\n",
    "print('--------')\n",
    "# csv_rating_count['rating_count'] = csv['MPAA Rating'].value_counts()\n",
    "max_value = df['mpaa_rating'].value_counts().idxmax()\n",
    "min_value = df['mpaa_rating'].value_counts().idxmin()\n",
    "print(f' Most frequent MPAA Rating is {max_value}')\n",
    "print(f' Less frequent MPAA Rating is {min_value}')\n",
    "print('--------')\n",
    "# print(lambda x: csv['MPAA Rating'].value_counts() == 285)\n",
    "\n",
    "# csv_rating_count_formula = csv_rating_count.apply(lambda a: print(f'Most frequent MPAA Rating is {a}') if a == max_value else print(f'Less frequent MPAA Rating is {a}') if a == min_value else print(f'{a} is neither the Least or Most frequent MPAA Rating'))\n",
    "\n",
    "print('--------')\n",
    "\n"
   ]
  },
  {
   "cell_type": "markdown",
   "metadata": {},
   "source": [
    "# 11 Most & least expensive Genre (take an average of all Budget measures grouped by Genre - use the groupBy() method)"
   ]
  },
  {
   "cell_type": "code",
   "execution_count": null,
   "metadata": {},
   "outputs": [
    {
     "name": "stdout",
     "output_type": "stream",
     "text": [
      " The genre with most budget investment is Fantasy with an investment of 161 million dollars\n",
      " The genre with least budget investment is Horror with an investment of 37 million dollars\n",
      "----------\n",
      "----------\n",
      "----------\n",
      "----------\n",
      "genre\n",
      "Fantasy    161\n",
      "Name: budget_millions, dtype: int64\n",
      "genre\n",
      "Horror    37\n",
      "Name: budget_millions, dtype: int64\n"
     ]
    },
    {
     "name": "stderr",
     "output_type": "stream",
     "text": [
      "/var/folders/pm/7vn7thz14p556cr_ql9w5xbw0000gn/T/ipykernel_55405/1075997920.py:1: SettingWithCopyWarning: \n",
      "A value is trying to be set on a copy of a slice from a DataFrame.\n",
      "Try using .loc[row_indexer,col_indexer] = value instead\n",
      "\n",
      "See the caveats in the documentation: https://pandas.pydata.org/pandas-docs/stable/user_guide/indexing.html#returning-a-view-versus-a-copy\n",
      "  df['budget_millions'] = df['budget'] / 1000000\n"
     ]
    }
   ],
   "source": [
    "df['budget_millions'] = df['budget'] / 1000000\n",
    "\n",
    "\n",
    "genre_mean = df.groupby('genre')['budget_millions'].mean().astype(int)\n",
    "\n",
    "max_genre = genre_mean.idxmax()\n",
    "max_value = genre_mean.max()\n",
    "print(f' The genre with most budget investment is {max_genre} with an investment of {max_value} million dollars')\n",
    "\n",
    "min_genre = genre_mean.idxmin()\n",
    "min_value = genre_mean.min()\n",
    "print(f' The genre with least budget investment is {min_genre} with an investment of {min_value} million dollars')\n",
    "\n",
    "print('----------')\n",
    "print('----------')\n",
    "print('----------')\n",
    "print('----------')\n",
    "\n",
    "print(genre_mean.sort_values(ascending=False).head(1))\n",
    "print(genre_mean.sort_values(ascending=False).tail(1))"
   ]
  },
  {
   "cell_type": "code",
   "execution_count": null,
   "metadata": {},
   "outputs": [],
   "source": [
    "# df.groupby('genre')['budget'].mean().sort_values(ascending=True)\n",
    "\n",
    "#df['budget_millions'] = df['budget'] / 100000\n",
    "#print(df['budget_millions'].head())\n",
    "#df.drop(columns=['budget'])\n",
    "#print('-------')\n",
    "#print('-------')\n",
    "#df_mean = df.groupby('genre')['budget_millions'].mean().sort_values(ascending=False)\n",
    "#print(df_mean)\n",
    "\n"
   ]
  },
  {
   "cell_type": "code",
   "execution_count": null,
   "metadata": {},
   "outputs": [],
   "source": [
    "# df_mean = df_mean.astype(int)\n",
    "# df_mean_max = df.groupby('genre')['budget_millions'].mean().sort_values(ascending=False).max()\n",
    "# df_mean_max = df_mean_max.astype(int)\n",
    "# print(f'Max mean found is {df_mean_max}')\n",
    "# df_mean_min = df.groupby('genre')['budget_millions'].mean().sort_values(ascending=False).min()\n",
    "# df_mean_min = df_mean_min.astype(int)\n",
    "# print(f'Min mean found is {df_mean_min}')\n"
   ]
  },
  {
   "cell_type": "code",
   "execution_count": null,
   "metadata": {},
   "outputs": [],
   "source": [
    "\n",
    "# df_mean_max_min = df_mean.apply(lambda a: print(f'Most expensive Genre is {a}') if a == df_mean_max else print(f'Least expensive genre is {a}') if a == df_mean_min else print(f'{a} is neither the Least or Most expensive genre'))\n"
   ]
  },
  {
   "cell_type": "markdown",
   "metadata": {},
   "source": [
    "# Which Genre is most favoured?\n"
   ]
  },
  {
   "cell_type": "code",
   "execution_count": null,
   "metadata": {},
   "outputs": [
    {
     "ename": "SyntaxError",
     "evalue": "invalid syntax (3487170913.py, line 1)",
     "output_type": "error",
     "traceback": [
      "\u001b[0;36m  Cell \u001b[0;32mIn[1066], line 1\u001b[0;36m\u001b[0m\n\u001b[0;31m    Based on our analysis, the most favoured genre is\u001b[0m\n\u001b[0m          ^\u001b[0m\n\u001b[0;31mSyntaxError\u001b[0m\u001b[0;31m:\u001b[0m invalid syntax\n"
     ]
    }
   ],
   "source": [
    "Based on our analysis, the most favoured genre is \n"
   ]
  }
 ],
 "metadata": {
  "kernelspec": {
   "display_name": "MarcosPython10",
   "language": "python",
   "name": "python3"
  },
  "language_info": {
   "codemirror_mode": {
    "name": "ipython",
    "version": 3
   },
   "file_extension": ".py",
   "mimetype": "text/x-python",
   "name": "python",
   "nbconvert_exporter": "python",
   "pygments_lexer": "ipython3",
   "version": "3.10.18"
  }
 },
 "nbformat": 4,
 "nbformat_minor": 2
}
